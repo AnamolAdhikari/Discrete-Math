{
  "cells": [
    {
      "cell_type": "markdown",
      "metadata": {
        "id": "view-in-github",
        "colab_type": "text"
      },
      "source": [
        "<a href=\"https://colab.research.google.com/github/AnamolAdhikari/Discrete-Math/blob/main/cse280_homework_01.ipynb\" target=\"_parent\"><img src=\"https://colab.research.google.com/assets/colab-badge.svg\" alt=\"Open In Colab\"/></a>"
      ]
    },
    {
      "cell_type": "markdown",
      "metadata": {
        "id": "_Mr3AvSgSswx"
      },
      "source": [
        "# <font color=blue>Homework 1 - Propositions & Logic </font>\n",
        "## <font color=blue>Prepare</font>"
      ]
    },
    {
      "cell_type": "markdown",
      "metadata": {
        "id": "ksLZnaagpooc"
      },
      "source": [
        "**Instructions:** Complete the exercises below.\n",
        "\n",
        "1. First, make a copy of this Colab Notebook to your GitHub account as a GitHub Gist (File -> Save a copy as a GitHub Gist). This will allow you to save any changes you make.\n",
        "\n",
        "2. Click the settings icon in the top-right corner of the Colab window. Make sure the box \"New notebooks use private outputs (omit outputs when saving)\" is NOT checked. This will make sure any Python output is saved with your notebook.\n",
        "\n",
        "    ![alt text](https://github.com/byui-cse/cse280-course-notebooks/blob/main/homework/settings-1.png?raw=1)\n",
        "\n",
        "    ![alt text](https://github.com/byui-cse/cse280-course-notebooks/blob/main/homework/settings-2.png?raw=1)\n",
        "\n",
        "3. Now enter your answers to each question in the places shown below. \n",
        "\n",
        "3. To submit your work, turn in the URL for your Colab notebook. Make sure the URL has the word `gist` in it. It should look something like this:\n",
        "`https://colab.research.google.com/gist/yourgithubusername/somerandomnumbersandletters/chapter-1-introductions-exercises.ipynb`"
      ]
    },
    {
      "cell_type": "markdown",
      "metadata": {
        "id": "m4grQN-0pooc"
      },
      "source": [
        "### Exercise 1.1"
      ]
    },
    {
      "cell_type": "markdown",
      "metadata": {
        "id": "2pcAJcFCYS42"
      },
      "source": [
        "Write three propositions and three non-propositions."
      ]
    },
    {
      "cell_type": "markdown",
      "metadata": {
        "id": "nTdx2QgUpood"
      },
      "source": [
        "Your Answer:"
      ]
    },
    {
      "cell_type": "code",
      "source": [
        "Propositions:\n",
        "\n",
        "1. There are infinite number of stars in the galaxy.\n",
        "2. Earth revolves around the Sun. \n",
        "3. Sun rises in the East and sets in the West.\n",
        "\n",
        "Non - Propositions:\n",
        "\n",
        "1. Pick up the pencil.\n",
        "2. Would you like some coffee? \n",
        "3. y is an even number. "
      ],
      "metadata": {
        "id": "23cKPPrvriUO"
      },
      "execution_count": null,
      "outputs": []
    },
    {
      "cell_type": "markdown",
      "metadata": {
        "id": "cka7gs7GBS72"
      },
      "source": [
        "### Exercise 1.2"
      ]
    },
    {
      "cell_type": "markdown",
      "metadata": {
        "id": "mbd0-wcaBoAi"
      },
      "source": [
        "Let $p$ be the proposition \"I studied.\" and $q$ be the proposition \"I got an A on the test.\" Express the following symbolic propositions in English:\n",
        "1. $p \\land q$.\n",
        "2. $\\lnot p \\land q$.\n",
        "3. $p \\land \\lnot q$.\n",
        "4. $\\lnot p \\land \\lnot q$.\n",
        "5. $p \\lor q$.\n",
        "6. $\\lnot p \\lor q$.\n",
        "7. $p \\lor \\lnot q$.\n",
        "8. $\\lnot p \\lor \\lnot q$.\n"
      ]
    },
    {
      "cell_type": "markdown",
      "metadata": {
        "id": "2tuzrll9pooe"
      },
      "source": [
        "1. (I studied )∧(I got an A on the test.) ->  I studied and I got an A on the test.\n",
        "\n",
        "\n",
        "---\n",
        "\n",
        "\n",
        "2. ¬(I studied) ∧ (I got an A on the test.) --> (I did not study) ∧ (I got an A on the test.) --> I did not study and I got an A on the test. \n",
        "\n",
        "---\n",
        "3. (I studied) ∧ ¬(I got an A on the test.) --> (I studied) ∧ (I did not got an A on the test.) --> I studied and I did not got an A on the test. \n",
        "\n",
        "---\n",
        "4. ¬(I studied) ∧ ¬(I got an A on the test.) --> (I did not studied) ∧ (I did not got an A on the test.) --> I did not studied and I did not got an A on the test. \n",
        "\n",
        "---\n",
        "5. (I studied) ∨ (I got an A on the test.) --> I studied or I got an A on the test. \n",
        "\n",
        "---\n",
        "6. ¬(I studied) ∨ (I got an A on the test.) --> (I did not studied) or (I got an A on the test.) --> I did not studied or I did got an A on the test. \n",
        "\n",
        "---\n",
        "7. (I studied)∨¬(I got an A on the test.) --> (I studied) ∨ (I did not got an A on the test.) --> I studied or I did not got an A on the test. \n",
        "\n",
        "---\n",
        "8. ¬(I studied)∨¬(I got an A on the test.) --> (I did not studied)∨ (I did not got an A on the test) --> I did not studied or I did not got an A on the test. \n",
        "\n",
        "\n",
        "\n",
        "\n",
        "\n",
        "\n",
        "\n",
        "\n",
        "\n"
      ]
    },
    {
      "cell_type": "markdown",
      "metadata": {
        "id": "RA3nTBfMYYUm"
      },
      "source": [
        "### Exercise 1.3"
      ]
    },
    {
      "cell_type": "markdown",
      "metadata": {
        "id": "B5CMZM5MYYUn"
      },
      "source": [
        "Construct truth tables for the following propositions:\n",
        "1. $p \\land q$\n",
        "2. $p \\lor q$\n",
        "3. $\\lnot p \\lor q$\n",
        "4. $p \\land \\lnot q$\n",
        "5. $p \\land (q \\oplus \\lnot r)$\n",
        "6. $p \\lor (\\lnot q \\oplus \\lnot r)$\n",
        "\n",
        "This is a chance to practice using either LaTeX or Markdown to construct tables. Just \"Google\" it!\n",
        "\n",
        "Or you can draw them by hand. The point is to practice creating them.\n",
        "\n",
        "Here is an example of how to create a table using Markdown (double-click on cell to see source):\n",
        "\n",
        "| p | q | p $\\land$ q |\n",
        "|---|---|---|\n",
        "|T|T|T|\n",
        "|T|F|F|\n",
        "|F|T|F|\n",
        "|F|F|F|\n",
        "\n",
        "\n",
        "You may create a single large truth table or six smaller truth tables.\n"
      ]
    },
    {
      "cell_type": "markdown",
      "metadata": {
        "id": "5K8PHumQpoog"
      },
      "source": [
        "\n",
        "**Truth Table**\n",
        "\n",
        "| p | q | r | p $\\land$ q | p $\\lor$ q  |$\\not$p $\\land$ q|p $\\land$ $\\not$q |  \n",
        "|---|---|---|-------------|-------------|-------------| ---------------------|\n",
        "| T | T | T |     T       |     T       |     T       |           T\n",
        "| T | T | F |     F       |     T       |     T       |           T           \n",
        "| T | F | T |     T       |     T       |     T       |           T\n",
        "| T | F | F |     F       |     T       |     T       |           T\n",
        "| F | T | T |     T       |     T       |     T       |           T\n",
        "| F | T | F |     F       |     T       |     T       |           T\n",
        "| F | F | T |     T       |     T       |     T       |           T\n",
        "| F | F | F |     F       |     T       |     T       |           T\n",
        "\n",
        "---\n",
        "\n",
        "| p | q | r | p $\\lor$ (q $\\lor$ $\\not$r) |  p $\\lor$ ($\\not$q $\\lor$ $\\not$r)  |  \n",
        "|---|---|---|-------------|-------------|\n",
        "| T | T | T |     T       |     T       |\n",
        "| T | T | F |     F       |     T       |      \n",
        "| T | F | T |     T       |     T       |\n",
        "| T | F | F |     F       |     T       |\n",
        "| F | T | T |     T       |     T       | \n",
        "| F | T | F |     F       |     T       | \n",
        "| F | F | T |     T       |     T       |  \n",
        "| F | F | F |     F       |     F       |  \n"
      ]
    },
    {
      "cell_type": "markdown",
      "metadata": {
        "id": "v8GRHZOzpoog"
      },
      "source": [
        "### Exercise 1.4"
      ]
    },
    {
      "cell_type": "markdown",
      "metadata": {
        "id": "tBonpogxpoog"
      },
      "source": [
        "Python has built in logical operators for **or**, **and**, and **not**. Using these operators, write a Python function called `xor` to implement the **exclusive or** operation. Your `xor` function should take two arguments.\n",
        "\n",
        "After you implement your function, run the following code, which should result in a truth table for exclusive or.\n",
        "\n"
      ]
    },
    {
      "cell_type": "code",
      "execution_count": 2,
      "metadata": {
        "id": "pD8OxF4Vpoog",
        "colab": {
          "base_uri": "https://localhost:8080/",
          "height": 258
        },
        "outputId": "dff8d3f6-10cf-4ad4-d88c-8f4903bd0676"
      },
      "outputs": [
        {
          "output_type": "stream",
          "name": "stdout",
          "text": [
            "p       q       p xor q\n"
          ]
        },
        {
          "output_type": "error",
          "ename": "NameError",
          "evalue": "ignored",
          "traceback": [
            "\u001b[0;31m---------------------------------------------------------------------------\u001b[0m",
            "\u001b[0;31mNameError\u001b[0m                                 Traceback (most recent call last)",
            "\u001b[0;32m<ipython-input-2-39eab46773fb>\u001b[0m in \u001b[0;36m<module>\u001b[0;34m()\u001b[0m\n\u001b[1;32m      2\u001b[0m \u001b[0mprint\u001b[0m\u001b[0;34m(\u001b[0m\u001b[0;34mf'p       q       p xor q'\u001b[0m\u001b[0;34m)\u001b[0m\u001b[0;34m\u001b[0m\u001b[0;34m\u001b[0m\u001b[0m\n\u001b[1;32m      3\u001b[0m \u001b[0;32mfor\u001b[0m \u001b[0;34m(\u001b[0m\u001b[0mp\u001b[0m\u001b[0;34m,\u001b[0m\u001b[0mq\u001b[0m\u001b[0;34m)\u001b[0m \u001b[0;32min\u001b[0m \u001b[0;34m[\u001b[0m\u001b[0;34m(\u001b[0m\u001b[0mp\u001b[0m\u001b[0;34m,\u001b[0m\u001b[0mq\u001b[0m\u001b[0;34m)\u001b[0m \u001b[0;32mfor\u001b[0m \u001b[0mp\u001b[0m \u001b[0;32min\u001b[0m \u001b[0;34m[\u001b[0m\u001b[0;32mTrue\u001b[0m\u001b[0;34m,\u001b[0m \u001b[0;32mFalse\u001b[0m\u001b[0;34m]\u001b[0m \u001b[0;32mfor\u001b[0m \u001b[0mq\u001b[0m \u001b[0;32min\u001b[0m \u001b[0;34m[\u001b[0m\u001b[0;32mTrue\u001b[0m\u001b[0;34m,\u001b[0m \u001b[0;32mFalse\u001b[0m\u001b[0;34m]\u001b[0m\u001b[0;34m]\u001b[0m\u001b[0;34m:\u001b[0m\u001b[0;34m\u001b[0m\u001b[0;34m\u001b[0m\u001b[0m\n\u001b[0;32m----> 4\u001b[0;31m     \u001b[0mprint\u001b[0m\u001b[0;34m(\u001b[0m\u001b[0;34mf'{p!s:<8}{q!s:<8}{xor(p,q)!s:<8}'\u001b[0m\u001b[0;34m)\u001b[0m\u001b[0;34m\u001b[0m\u001b[0;34m\u001b[0m\u001b[0m\n\u001b[0m\u001b[1;32m      5\u001b[0m \u001b[0;34m\u001b[0m\u001b[0m\n\u001b[1;32m      6\u001b[0m \u001b[0;34m\u001b[0m\u001b[0m\n",
            "\u001b[0;31mNameError\u001b[0m: name 'xor' is not defined"
          ]
        }
      ],
      "source": [
        "# Print a truth table for p xor q\n",
        "print(f'p       q       p xor q')\n",
        "for (p,q) in [(p,q) for p in [True, False] for q in [True, False]]:\n",
        "    print(f'{p!s:<8}{q!s:<8}{xor(p,q)!s:<8}')\n",
        "\n",
        "\n",
        "# Should result in output like this:\n",
        "# p       q       p xor q\n",
        "# True    True    False   \n",
        "# True    False   True    \n",
        "# False   True    True    \n",
        "# False   False   False "
      ]
    },
    {
      "cell_type": "markdown",
      "metadata": {
        "id": "8koq0R7-pooh"
      },
      "source": [
        "### Exercise 1.5"
      ]
    },
    {
      "cell_type": "markdown",
      "metadata": {
        "id": "LNIq02O9pooh"
      },
      "source": [
        "Explore logical operations in Python by using Python to generate a truth table for the following propositions:\n",
        "1. $p \\land q$\n",
        "2. $p \\lor q$\n",
        "3. $\\lnot p \\lor q$\n",
        "4. $p \\land \\lnot q$\n",
        "5. $p \\land (q \\oplus \\lnot r)$\n",
        "6. $p \\lor (\\lnot q \\oplus \\lnot r)$\n",
        "\n",
        "Compare your Python result with the tables you created in Exercise 1.3.\n",
        "\n",
        "You may need to use the `xor` function you created previously."
      ]
    },
    {
      "cell_type": "markdown",
      "metadata": {
        "id": "0e2bUTpFpooi"
      },
      "source": [
        "Your Answer:"
      ]
    }
  ],
  "metadata": {
    "colab": {
      "collapsed_sections": [],
      "name": "cse280-homework-01.ipynb",
      "provenance": [],
      "toc_visible": true,
      "include_colab_link": true
    },
    "kernelspec": {
      "display_name": "Python 3",
      "language": "python",
      "name": "python3"
    },
    "language_info": {
      "codemirror_mode": {
        "name": "ipython",
        "version": 3
      },
      "file_extension": ".py",
      "mimetype": "text/x-python",
      "name": "python",
      "nbconvert_exporter": "python",
      "pygments_lexer": "ipython3",
      "version": "3.9.0"
    }
  },
  "nbformat": 4,
  "nbformat_minor": 0
}