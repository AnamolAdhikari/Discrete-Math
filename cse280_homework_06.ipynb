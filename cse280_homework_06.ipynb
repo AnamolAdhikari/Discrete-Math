{
  "cells": [
    {
      "cell_type": "markdown",
      "metadata": {
        "id": "view-in-github",
        "colab_type": "text"
      },
      "source": [
        "<a href=\"https://colab.research.google.com/github/AnamolAdhikari/Discrete-Math/blob/main/cse280_homework_06.ipynb\" target=\"_parent\"><img src=\"https://colab.research.google.com/assets/colab-badge.svg\" alt=\"Open In Colab\"/></a>"
      ]
    },
    {
      "cell_type": "markdown",
      "metadata": {
        "id": "_Mr3AvSgSswx"
      },
      "source": [
        "# <font color=blue>Homework 6 - Division, Modular Arithmetic, Prime Numbers</font>\n",
        "## <font color=blue>Prepare</font>"
      ]
    },
    {
      "cell_type": "markdown",
      "metadata": {
        "id": "w1t0weuGbbhA"
      },
      "source": [
        "**Instructions:** Complete the exercises below.\n",
        "\n",
        "1. First, make a copy of this Colab Notebook to your GitHub account as a GitHub Gist (File -> Save a copy as a GitHub Gist). This will allow you to save any changes you make.\n",
        "\n",
        "2. Now enter your answers to each question in the places shown below. \n",
        "\n",
        "3. To submit your work, turn in the URL for your Colab notebook. Make sure the URL has the word `gist` in it. It should look something like this:\n",
        "`https://colab.research.google.com/gist/yourgithubusername/somerandomnumbersandletters/homework-06.ipynb`"
      ]
    },
    {
      "cell_type": "markdown",
      "metadata": {
        "id": "bEsUKV6DbbhB"
      },
      "source": [
        "**Note**:\n",
        "Sample solutions are provided in order to help you **learn**. The purpose of these exercises is not to simply turn in the answers, but to take the time and effort to learn and understand the material. You are encouraged to work the problems first, then when you are satisfied that you have the correct answer, look at the sample solution and compare it with yours. "
      ]
    },
    {
      "cell_type": "markdown",
      "metadata": {
        "id": "orEC7Q4wSbDe"
      },
      "source": [
        "As you complete the problems below, you may use Python whenever you can think of way it could help you answer the question."
      ]
    },
    {
      "cell_type": "markdown",
      "metadata": {
        "id": "Db7xiggYSbDe"
      },
      "source": [
        "### Exercise 6.1\n",
        "\n"
      ]
    },
    {
      "cell_type": "markdown",
      "metadata": {
        "id": "o2IEsImdSbDe"
      },
      "source": [
        "How is integer division performed in Python? Python has built-in operators to perform integer or floor division and modular division. The `//` operator performs floor division and the `%` operator performs modular division.\n",
        "\n",
        "Write a Python lambda function that takes two numbers $a$ and $b$, then use Python integer or floor division and modulo division to return a quotient and remainder as a tuple (q,r).\n",
        "\n",
        "For example, if $a=9$ and $b=4$, the result should be (2,1). \n"
      ]
    },
    {
      "cell_type": "markdown",
      "metadata": {
        "id": "iRX6sYjAbbhN"
      },
      "source": [
        "#### Your Answer:"
      ]
    },
    {
      "cell_type": "code",
      "execution_count": 7,
      "metadata": {
        "id": "zK4IjG2RSbDf",
        "colab": {
          "base_uri": "https://localhost:8080/"
        },
        "outputId": "cfbe1b27-5610-45b8-8fd4-f5972c41a476"
      },
      "outputs": [
        {
          "output_type": "stream",
          "name": "stdout",
          "text": [
            "ANSWERS\n",
            "2r1\n"
          ]
        }
      ],
      "source": [
        "# Define a function to perform integer division, \n",
        "# returning an integer and a remainder.\n",
        "\n",
        "integer_division = lambda a, b:(a//b, a%b) \n",
        " # Your code here\n",
        "\n",
        "result = integer_division(9,4)\n",
        "print(\"ANSWERS\")\n",
        "print(f'{result[0]}r{result[1]}') # should output 2r1"
      ]
    },
    {
      "cell_type": "markdown",
      "metadata": {
        "id": "Gy-pisJ8SbDg"
      },
      "source": [
        "### Exercise 6.2"
      ]
    },
    {
      "cell_type": "markdown",
      "metadata": {
        "id": "el73s8uPSbDg"
      },
      "source": [
        "Does $d$ evenly divide $n$? Determine whether each of the following is True or False. If False, give the quotient and remainder. (You are encouraged to write some Python code to help)\n",
        "\n",
        "1. $3 | 12$\n",
        "2. $3 | 13$\n",
        "3. $14 | 58$\n",
        "4. $73 | 1752$\n",
        "5. $73 | 1753$"
      ]
    },
    {
      "cell_type": "code",
      "source": [
        "div = lambda d,n: True if n%d == 0 else (n//d, n%d)\n",
        "\n",
        "print('Answers')\n",
        "\n",
        "print()\n",
        "\n",
        "print('1.', div(3,12))\n",
        "print('2.', div(3,13))\n",
        "print('3.', div(14,58))\n",
        "print('4.', div(73,1752))\n",
        "print('5.', div(73,1753))"
      ],
      "metadata": {
        "colab": {
          "base_uri": "https://localhost:8080/"
        },
        "id": "ecV7PVWwVa6U",
        "outputId": "9ecb8b4b-37e1-48a1-af48-5362f3bf3d95"
      },
      "execution_count": 6,
      "outputs": [
        {
          "output_type": "stream",
          "name": "stdout",
          "text": [
            "Answers\n",
            "\n",
            "1. True\n",
            "2. (4, 1)\n",
            "3. (4, 2)\n",
            "4. True\n",
            "5. (24, 1)\n"
          ]
        }
      ]
    },
    {
      "cell_type": "markdown",
      "metadata": {
        "id": "l0gqK6KeSbDg"
      },
      "source": [
        "#### Your Answer:"
      ]
    },
    {
      "cell_type": "markdown",
      "metadata": {
        "id": "keQ9Tc36SbDg"
      },
      "source": [
        "### Exercise 6.3"
      ]
    },
    {
      "cell_type": "markdown",
      "metadata": {
        "id": "dhR3rLb9SbDg"
      },
      "source": [
        "List all the positive divisors of each of the following. You may choose to compute them by hand or you may use Python.\n",
        "\n",
        "1. 36\n",
        "2. 24\n",
        "3. 56\n",
        "4. 100\n",
        "5. 116"
      ]
    },
    {
      "cell_type": "code",
      "source": [
        "div = lambda n: {n//x for x in range(1,n+1) if n%x == 0}\n",
        "\n",
        "print('1.', sorted(div(36)))\n",
        "print('2.', sorted(div(24)))\n",
        "print('3.', sorted(div(56)))\n",
        "print('4.', sorted(div(100)))\n",
        "print('5.', sorted(div(116)))"
      ],
      "metadata": {
        "colab": {
          "base_uri": "https://localhost:8080/"
        },
        "id": "WRKMHKARWOss",
        "outputId": "abe048de-b55e-4c4d-920c-ba17293d9624"
      },
      "execution_count": 8,
      "outputs": [
        {
          "output_type": "stream",
          "name": "stdout",
          "text": [
            "1. [1, 2, 3, 4, 6, 9, 12, 18, 36]\n",
            "2. [1, 2, 3, 4, 6, 8, 12, 24]\n",
            "3. [1, 2, 4, 7, 8, 14, 28, 56]\n",
            "4. [1, 2, 4, 5, 10, 20, 25, 50, 100]\n",
            "5. [1, 2, 4, 29, 58, 116]\n"
          ]
        }
      ]
    },
    {
      "cell_type": "markdown",
      "metadata": {
        "id": "i-UckWA0SbDh"
      },
      "source": [
        "#### Your Answer:"
      ]
    },
    {
      "cell_type": "markdown",
      "metadata": {
        "id": "8Hcfx7JLSbDh"
      },
      "source": [
        "### Exercise 6.4"
      ]
    },
    {
      "cell_type": "markdown",
      "metadata": {
        "id": "9NoXApIoSbDh"
      },
      "source": [
        "For each of the below, find the value of $n$.\n",
        "\n",
        "1. n div 11 = 4, n mod  11 = 3\n",
        "2. n div 5 = 8, n mod 5 = 1\n",
        "3. n div 7 = 9, n mod 7 = 0\n",
        "4. n div 15 = 4, n mod 15 = 7\n",
        "5. n div 13 = -2, n mod 13 = 3\n"
      ]
    },
    {
      "cell_type": "markdown",
      "source": [
        "Answers\n",
        "\n",
        "1. n = 11*4 + 3 = 47\n",
        "2. n = 5*8 + 1 = 41\n",
        "3. n = 7*9 + 0 = 63\n",
        "4. n = 15*4 + 7 = 67\n",
        "5. n = -2*13 + 3 = -23"
      ],
      "metadata": {
        "id": "8p-G3rjxZkLk"
      }
    },
    {
      "cell_type": "markdown",
      "metadata": {
        "id": "KB-XZOiMSbDh"
      },
      "source": [
        "#### Your Answer:"
      ]
    },
    {
      "cell_type": "markdown",
      "metadata": {
        "id": "7Z1i12JXSbDh"
      },
      "source": [
        "### Exercise 6.5\n",
        "#### Division Algorithm\n",
        "\n",
        "The procedural version of the Division Algorithm is presented as pseudocode in 9.1.3 and reproduced here:\n",
        "\n",
        "##### Definition 9.1.3: Procedural version of the Division Algorithm.\n",
        "\n",
        "Input: Integers n and d > 0.\n",
        "\n",
        "Output: q = n div d, and r = n mod d.\n",
        "\n",
        "```\n",
        "Case 1: n ≥ 0.         Case 2: n < 0.\n",
        "--------------         -------------- \n",
        "q := 0                 q := 0\n",
        "r := n                 r := n\n",
        "While ( r ≥ d )        While ( r < 0 )\n",
        "  q := q + 1             q := q - 1\n",
        "  r := r - d             r := r + d\n",
        "End-While              End-While\n",
        "```\n",
        "\n",
        "\n",
        "#### Your task is to complete the following.\n",
        "1. By hand, trace through the procedural version of the Division Algorithm using the following inputs to make sure you fully understand how the algorithm works.\n",
        "\n",
        "   $n=9$, $d=4$\n",
        "   \n",
        "   $n=-9$, $d=4$\n",
        "\n",
        "3. Implement the division algorithm shown above as a Python function that returns a tuple (q,r).\n",
        "\n",
        "4. Test your function on several numbers.\n"
      ]
    },
    {
      "cell_type": "markdown",
      "metadata": {
        "id": "1ZVfeUIhSbDh"
      },
      "source": [
        "#### Your Answer:"
      ]
    },
    {
      "cell_type": "code",
      "execution_count": 12,
      "metadata": {
        "id": "mNX4K_eoSbDi",
        "colab": {
          "base_uri": "https://localhost:8080/"
        },
        "outputId": "7a290ca6-67b6-4a0d-fab8-57b7ca04f187"
      },
      "outputs": [
        {
          "output_type": "stream",
          "name": "stdout",
          "text": [
            "ANSWERS\n",
            "\n",
            "(2, 1)\n",
            "(-3, 3)\n"
          ]
        }
      ],
      "source": [
        "\n",
        "\n",
        "def division(n, d):\n",
        "    x = 0\n",
        "    r = n\n",
        "    \n",
        "    # Case 1\n",
        "    if n >= 0:\n",
        "        while r >= d:\n",
        "            x = x + 1\n",
        "            r = r - d\n",
        "\n",
        "    # Case 2\n",
        "    else:\n",
        "        while r < 0:\n",
        "            x = x - 1\n",
        "            r = r + d\n",
        "    \n",
        "    return (x, r)\n",
        "\n",
        "\n",
        "print(\"ANSWERS\")\n",
        "print()\n",
        "\n",
        "print(division(9,4))\n",
        "print(division(-9,4))"
      ]
    },
    {
      "cell_type": "markdown",
      "metadata": {
        "id": "Az44LZqQSbDi"
      },
      "source": [
        "### Exercise 6.6"
      ]
    },
    {
      "cell_type": "markdown",
      "metadata": {
        "id": "KUGaFJSgSbDi"
      },
      "source": [
        "Group the following numbers according to congruence mod 7. In other words, put two numbers in the same group if they are equivalent mod 7.\n",
        "\n",
        "{-48, -26, 1, 8, 3, 70, 24, 32, 11, 5, 27, 19, 49}"
      ]
    },
    {
      "cell_type": "markdown",
      "source": [
        "0 mod 7: 49, 70\n",
        "\n",
        "1 mod 7: -48, 1, 8 \n",
        "\n",
        "2 mod 7: -26\n",
        "\n",
        "3 mod 7: 3, 24\n",
        "\n",
        "4 mod 7: 11, 32\n",
        "\n",
        "5 mod 7: 5, 19\n",
        "\n",
        "6 mod 7: 27"
      ],
      "metadata": {
        "id": "Mzl1I_9udypV"
      }
    },
    {
      "cell_type": "markdown",
      "metadata": {
        "id": "TgfxzXfVSbDi"
      },
      "source": [
        "#### Your Answer:"
      ]
    },
    {
      "cell_type": "markdown",
      "metadata": {
        "id": "x9efatnVSbDi"
      },
      "source": [
        "### Exercise 6.7"
      ]
    },
    {
      "cell_type": "markdown",
      "metadata": {
        "id": "3iLjo4KbSbDi"
      },
      "source": [
        "Give the prime factorization for the following numbers.\n",
        "\n",
        "1. 27\n",
        "2. 35\n",
        "3. 110\n",
        "4. 74\n",
        "5. 24\n",
        "6. 88"
      ]
    },
    {
      "cell_type": "markdown",
      "source": [
        "1. $3^3$\n",
        "2. $5 \\cdot 7$\n",
        "3. $2 \\cdot 5 \\cdot 11$\n",
        "4. $2 \\cdot 37$\n",
        "5. $2^3 \\cdot 3$\n",
        "6. $2^3 \\cdot 11$ \n"
      ],
      "metadata": {
        "id": "_84JYLmjd4l9"
      }
    },
    {
      "cell_type": "markdown",
      "metadata": {
        "id": "s9EedC2HSbDi"
      },
      "source": [
        "#### Your Answer:"
      ]
    },
    {
      "cell_type": "markdown",
      "metadata": {
        "id": "vOF6iIXHSbDi"
      },
      "source": [
        "### Exercise 6.8"
      ]
    },
    {
      "cell_type": "markdown",
      "metadata": {
        "id": "yEerwYnXSbDi"
      },
      "source": [
        "Find the GCD and LCM of the following numbers without using Python.\n",
        "\n",
        "1. $2^3 \\cdot 3^2 \\cdot 5$ and $2 \\cdot 3^3 \\cdot 5^2 \\cdot 7$\n",
        "2. $2 \\cdot 5^3 \\cdot 7 \\cdot 11^2$ and $2^3 \\cdot 3 \\cdot 5 \\cdot 11$\n",
        "3. $2^2 \\cdot 3 \\cdot 7^2 \\cdot 13$ and $2 \\cdot 3^2 \\cdot 5 \\cdot 7 \\cdot 13^2$\n",
        "3. $5!$ and $2 \\cdot 3 \\cdot 5$\n",
        "4. $19^3$ and $19^4$\n"
      ]
    },
    {
      "cell_type": "markdown",
      "source": [
        "1. GCD: $2 \\cdot 3^2 \\cdot 5$, LCM: $2^3 \\cdot 3^3 \\cdot 5^2 \\cdot 7$\n",
        "2. GCD: $2 \\cdot 5 \\cdot 11$, LCM: $2^3 \\cdot 3 \\cdot 5^3 \\cdot 7 \\cdot 11^2$\n",
        "3. GCD: $2 \\cdot 3 \\cdot 7 \\cdot 13$, LCM: $2^2 \\cdot 3^2 \\cdot 5 \\cdot 7^2 \\cdot 13^2$\n",
        "4. GCD: $2 \\cdot 3 \\cdot 5$, LCM: $2^3 \\cdot 3 \\cdot 5$\n",
        "5. GCD: $19^3$, LCM: $19^4$\n"
      ],
      "metadata": {
        "id": "3UBZP5fbeAep"
      }
    },
    {
      "cell_type": "markdown",
      "metadata": {
        "id": "Dw--Gv_hSbDi"
      },
      "source": [
        "#### Your Answer:"
      ]
    },
    {
      "cell_type": "markdown",
      "metadata": {
        "id": "08RKINNgSbDi"
      },
      "source": [
        "### Exercise 6.9"
      ]
    },
    {
      "cell_type": "markdown",
      "metadata": {
        "id": "aR7Oe2leSbDi"
      },
      "source": [
        "Here is a brute-force algorithm for factoring an integer $N$ based on Figure 9.4.1:\n",
        "\n",
        "```\n",
        "Input: Integer N greater than 1.\n",
        "Output: \"Prime\" if N is prime. If N is composite, return two integers greater than 1 whose product is N.\n",
        "\n",
        "For x = 2 to N-1\n",
        "      If x evenly divides N,\n",
        "            Return( x, N/x )\n",
        "End-for\n",
        "\n",
        "Return( \"Prime\" )\n",
        "```"
      ]
    },
    {
      "cell_type": "markdown",
      "metadata": {
        "id": "tH0W2fc1SbDi"
      },
      "source": [
        "Write a Python function in the code block below to implement this algorithm.\n",
        "\n",
        "After writing your code in the block below, complete each of the following.\n",
        "\n",
        "1. Try a few numbers for the input $N$. Does this algorithm work well for large numbers? \n",
        "\n",
        "2. Try these numbers (all of which are Primes):\n",
        "19, 89, 1289, 7919\n",
        "\n",
        "3. Try these numbers (which are not Primes):\n",
        "18, 91, 1287, 7921\n",
        "\n",
        "4. Try each of these numbers: 39916801, 433494437, 87178291199. Does it finish in a reasonable amount of time?\n",
        "\n",
        "5. Now modifiy this algorithm to make it more efficient by only testing factors up to $\\sqrt{N}$. Try it again with the numbers in step 4. Is it faster?\n"
      ]
    },
    {
      "cell_type": "code",
      "execution_count": 16,
      "metadata": {
        "id": "ZlIekglfSbDj",
        "colab": {
          "base_uri": "https://localhost:8080/",
          "height": 107
        },
        "outputId": "ee41d75d-273f-4cbe-feee-84393cd8b864"
      },
      "outputs": [
        {
          "output_type": "stream",
          "name": "stdout",
          "text": [
            "[444, 396, 902, 999, 375, 605, 897, 847, 788, 928]\n",
            "[(2, 222), (2, 198), (2, 451), (3, 333), (3, 125), (5, 121), (3, 299), (7, 121), (2, 394), (2, 464)]\n",
            "['Prime', 'Prime', 'Prime', 'Prime']\n",
            "[(2, 9), (7, 13), (3, 429), (89, 89)]\n"
          ]
        },
        {
          "output_type": "execute_result",
          "data": {
            "text/plain": [
              "'Prime'"
            ],
            "application/vnd.google.colaboratory.intrinsic+json": {
              "type": "string"
            }
          },
          "metadata": {},
          "execution_count": 16
        }
      ],
      "source": [
        "# Your code here for steps 1-4\n",
        "\n",
        "def factor(n):\n",
        "    for x in range(2, n):\n",
        "        if n % x == 0: # x evenly divides n\n",
        "            return (x, n//x)\n",
        "    return (\"Prime\")\n",
        "\n",
        "# RANDOM NUMBERS\n",
        "import random\n",
        "random_nums = [random.randrange(1,1000) for _ in range(10)]\n",
        "print(random_nums)\n",
        "\n",
        "\n",
        "# EACH RANDOM NUMBERS\n",
        "result = [*map(lambda n: factor(n), random_nums)]\n",
        "print(result)\n",
        "\n",
        "primes = [19, 89, 1289, 7919]\n",
        "result = [*map(lambda n: factor(n), primes)]\n",
        "print(result)\n",
        "\n",
        "not_primes = [18, 91, 1287, 7921]\n",
        "result = [*map(lambda n: factor(n), not_primes)]\n",
        "print(result)\n",
        "\n",
        "# LARGER NUMBER\n",
        "n = 39916801 # ~2s\n",
        "# n = 433494437 # ~20s\n",
        "# n = 8589935681 # ~1600s\n",
        "# n = 87178291199 # ?\n",
        "# n = 10888869450418352160768000001 # ?\n",
        "factor(n)"
      ]
    },
    {
      "cell_type": "code",
      "execution_count": 15,
      "metadata": {
        "id": "gX1lWc59SbDj"
      },
      "outputs": [],
      "source": [
        "# Your code here for step 5\n",
        "# TESTING N\n",
        "from math import floor, sqrt\n",
        "def factor_2(n):\n",
        "    for x in range(2, floor(sqrt(n))):\n",
        "        if n % x == 0: # x evenly divides n\n",
        "            return (x, n//x)\n",
        "    return (\"Prime\")"
      ]
    },
    {
      "cell_type": "markdown",
      "metadata": {
        "id": "HCjgnJwTbbhN"
      },
      "source": [
        "----------------------\n",
        "## Sample Solutions\n",
        "\n",
        "**Note**:\n",
        "Sample solutions are provided in order to help you **learn**. The purpose of these exercises is not to simply turn in the answers, but to take the time and effort to learn and understand the material. You are encouraged to work the problems first, then when you are satisfied that you have the correct answer, look at the sample solution and compare it with yours. "
      ]
    },
    {
      "cell_type": "markdown",
      "metadata": {
        "id": "cfFw2OVMSbDj"
      },
      "source": [
        "### Sample Solution 6.1"
      ]
    },
    {
      "cell_type": "code",
      "execution_count": null,
      "metadata": {
        "id": "6u6wyXyESbDj"
      },
      "outputs": [],
      "source": [
        "# Define a function to perform integer division, \n",
        "# returning an integer and a remainder.\n",
        "integer_division = lambda a,b: (a//b, a%b)\n",
        "\n",
        "result = integer_division(9,4)\n",
        "print(f'{result[0]}r{result[1]}')\n"
      ]
    },
    {
      "cell_type": "markdown",
      "metadata": {
        "id": "aZK4y3_CSbDj"
      },
      "source": [
        "### Sample Solution 6.2"
      ]
    },
    {
      "cell_type": "code",
      "execution_count": null,
      "metadata": {
        "id": "YSWSetKuSbDj"
      },
      "outputs": [],
      "source": [
        "divides = lambda d,n: True if n%d == 0 else (n//d, n%d)\n",
        "\n",
        "print('1.', divides(3,12))\n",
        "print('2.', divides(3,13))\n",
        "print('3.', divides(14,58))\n",
        "print('4.', divides(73,1752))\n",
        "print('5.', divides(73,1753))"
      ]
    },
    {
      "cell_type": "markdown",
      "metadata": {
        "id": "sA0sApqtSbDj"
      },
      "source": [
        "### Sample Solution 6.3"
      ]
    },
    {
      "cell_type": "code",
      "execution_count": null,
      "metadata": {
        "id": "wCOWcNQ2SbDj"
      },
      "outputs": [],
      "source": [
        "divisors = lambda n: {n//x for x in range(1,n+1) if n%x == 0}\n",
        "\n",
        "print('1.', sorted(divisors(36)))\n",
        "print('2.', sorted(divisors(24)))\n",
        "print('3.', sorted(divisors(56)))\n",
        "print('4.', sorted(divisors(100)))\n",
        "print('5.', sorted(divisors(116)))"
      ]
    },
    {
      "cell_type": "markdown",
      "metadata": {
        "id": "gzFAarkySbDj"
      },
      "source": [
        "### Sample Solution Exercise 6.4"
      ]
    },
    {
      "cell_type": "markdown",
      "metadata": {
        "id": "_NhOiv-5SbDj"
      },
      "source": [
        "The division algorithm says $n = dq + r$. So we can solve for $n$ by plugging in $d$, $q$, and $r$.\n",
        "\n",
        "1. n = 11*4 + 3 = 47\n",
        "2. n = 5*8 + 1 = 41\n",
        "3. n = 7*9 + 0 = 63\n",
        "4. n = 15*4 + 7 = 67\n",
        "5. n = -2*13 + 3 = -23"
      ]
    },
    {
      "cell_type": "markdown",
      "metadata": {
        "id": "x1dPfa2zSbDj"
      },
      "source": [
        "### Sample Solution 6.5"
      ]
    },
    {
      "cell_type": "code",
      "execution_count": null,
      "metadata": {
        "id": "qjz-udyUSbDj"
      },
      "outputs": [],
      "source": [
        "# Solution\n",
        "\n",
        "def division(n, d):\n",
        "    q = 0\n",
        "    r = n\n",
        "    \n",
        "    # Case 1\n",
        "    if n >= 0:\n",
        "        while r >= d:\n",
        "            q = q + 1\n",
        "            r = r - d\n",
        "\n",
        "    # Case 2\n",
        "    else:\n",
        "        while r < 0:\n",
        "            q = q - 1\n",
        "            r = r + d\n",
        "    \n",
        "    return (q, r)\n",
        "\n",
        "print(division(9,4))\n",
        "print(division(-9,4))\n"
      ]
    },
    {
      "cell_type": "markdown",
      "metadata": {
        "id": "NT0a48DeSbDj"
      },
      "source": [
        "### Sample Solution 6.6"
      ]
    },
    {
      "cell_type": "markdown",
      "metadata": {
        "id": "7EWEfhttSbDj"
      },
      "source": [
        "0 mod 7: 49, 70\n",
        "\n",
        "1 mod 7: -48, 1, 8 \n",
        "\n",
        "2 mod 7: -26\n",
        "\n",
        "3 mod 7: 3, 24\n",
        "\n",
        "4 mod 7: 11, 32\n",
        "\n",
        "5 mod 7: 5, 19\n",
        "\n",
        "6 mod 7: 27"
      ]
    },
    {
      "cell_type": "code",
      "execution_count": null,
      "metadata": {
        "id": "7jCs5dPCSbDj"
      },
      "outputs": [],
      "source": [
        "# Some python to help quickly find the solution\n",
        "nums = [-48, -26, 1, 8, 3, 70, 24, 32, 11, 5, 27, 19, 49]\n",
        "[*map(lambda x: (x%7, x), nums)]"
      ]
    },
    {
      "cell_type": "markdown",
      "metadata": {
        "id": "FTHK_7H0SbDj"
      },
      "source": [
        "### Sample Solution 6.7"
      ]
    },
    {
      "cell_type": "markdown",
      "metadata": {
        "id": "D--kSnRqSbDk"
      },
      "source": [
        "1. $3^3$\n",
        "2. $5 \\cdot 7$\n",
        "3. $2 \\cdot 5 \\cdot 11$\n",
        "4. $2 \\cdot 37$\n",
        "5. $2^3 \\cdot 3$\n",
        "6. $2^3 \\cdot 11$ \n"
      ]
    },
    {
      "cell_type": "markdown",
      "metadata": {
        "id": "K_qCB1WMSbDk"
      },
      "source": [
        "### Sample Solution 6.8"
      ]
    },
    {
      "cell_type": "markdown",
      "metadata": {
        "id": "OiJb-DKGSbDk"
      },
      "source": [
        "1. GCD: $2 \\cdot 3^2 \\cdot 5$, LCM: $2^3 \\cdot 3^3 \\cdot 5^2 \\cdot 7$\n",
        "2. GCD: $2 \\cdot 5 \\cdot 11$, LCM: $2^3 \\cdot 3 \\cdot 5^3 \\cdot 7 \\cdot 11^2$\n",
        "3. GCD: $2 \\cdot 3 \\cdot 7 \\cdot 13$, LCM: $2^2 \\cdot 3^2 \\cdot 5 \\cdot 7^2 \\cdot 13^2$\n",
        "4. GCD: $2 \\cdot 3 \\cdot 5$, LCM: $2^3 \\cdot 3 \\cdot 5$\n",
        "5. GCD: $19^3$, LCM: $19^4$\n"
      ]
    },
    {
      "cell_type": "markdown",
      "metadata": {
        "id": "Jk9ovguBSbDk"
      },
      "source": [
        "### Sample Solution 6.9"
      ]
    },
    {
      "cell_type": "code",
      "execution_count": null,
      "metadata": {
        "id": "YBO1P9GMSbDk"
      },
      "outputs": [],
      "source": [
        "# sample solution\n",
        "def factor(n):\n",
        "    for x in range(2, n):\n",
        "        if n % x == 0: # x evenly divides n\n",
        "            return (x, n//x)\n",
        "    return (\"Prime\")\n",
        "\n",
        "# Pick some random numbers\n",
        "import random\n",
        "random_nums = [random.randrange(1,1000) for _ in range(10)]\n",
        "print(random_nums)\n",
        "\n",
        "\n",
        "# Try out our algorithm with each of the random numbers\n",
        "result = [*map(lambda n: factor(n), random_nums)]\n",
        "print(result)"
      ]
    },
    {
      "cell_type": "code",
      "execution_count": null,
      "metadata": {
        "id": "iiLiSvB4SbDk"
      },
      "outputs": [],
      "source": [
        "# Try with some other numbers\n",
        "primes = [19, 89, 1289, 7919]\n",
        "result = [*map(lambda n: factor(n), primes)]\n",
        "print(result)\n",
        "\n",
        "not_primes = [18, 91, 1287, 7921]\n",
        "result = [*map(lambda n: factor(n), not_primes)]\n",
        "print(result)"
      ]
    },
    {
      "cell_type": "code",
      "execution_count": null,
      "metadata": {
        "id": "jRubH1NWSbDk"
      },
      "outputs": [],
      "source": [
        "# Try with a larger number\n",
        "n = 39916801 # ~2s\n",
        "# n = 433494437 # ~20s\n",
        "# n = 8589935681 # ~1600s\n",
        "# n = 87178291199 # ?\n",
        "# n = 10888869450418352160768000001 # ?\n",
        "factor(n)"
      ]
    },
    {
      "cell_type": "markdown",
      "metadata": {
        "id": "kgh0SznCSbDk"
      },
      "source": [
        "Now modifiy this algorithm to make it more efficient by only testing factors up to $\\sqrt{N}$.\n"
      ]
    },
    {
      "cell_type": "code",
      "execution_count": null,
      "metadata": {
        "id": "phZejiJnSbDk"
      },
      "outputs": [],
      "source": [
        "# sample solution\n",
        "from math import floor, sqrt\n",
        "def factor_2(n):\n",
        "    for x in range(2, floor(sqrt(n))):\n",
        "        if n % x == 0: # x evenly divides n\n",
        "            return (x, n//x)\n",
        "    return (\"Prime\")\n",
        "\n"
      ]
    }
  ],
  "metadata": {
    "colab": {
      "collapsed_sections": [
        "HCjgnJwTbbhN"
      ],
      "name": "cse280-homework-06.ipynb",
      "provenance": [],
      "toc_visible": true,
      "include_colab_link": true
    },
    "interpreter": {
      "hash": "1977c1262a5a71e57f8e1e2a9337f4268800bf2d1a595fc1ecb322ccb8b2351d"
    },
    "kernelspec": {
      "display_name": "Python 3.9.0 ('.env': venv)",
      "language": "python",
      "name": "python3"
    },
    "language_info": {
      "codemirror_mode": {
        "name": "ipython",
        "version": 3
      },
      "file_extension": ".py",
      "mimetype": "text/x-python",
      "name": "python",
      "nbconvert_exporter": "python",
      "pygments_lexer": "ipython3",
      "version": "3.9.0"
    }
  },
  "nbformat": 4,
  "nbformat_minor": 0
}