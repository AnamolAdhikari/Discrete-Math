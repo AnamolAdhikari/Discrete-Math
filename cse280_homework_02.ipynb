{
  "cells": [
    {
      "cell_type": "markdown",
      "metadata": {
        "id": "view-in-github",
        "colab_type": "text"
      },
      "source": [
        "<a href=\"https://colab.research.google.com/github/AnamolAdhikari/Discrete-Math/blob/main/cse280_homework_02.ipynb\" target=\"_parent\"><img src=\"https://colab.research.google.com/assets/colab-badge.svg\" alt=\"Open In Colab\"/></a>"
      ]
    },
    {
      "cell_type": "markdown",
      "metadata": {
        "id": "_Mr3AvSgSswx"
      },
      "source": [
        "# <font color=blue>Homework 2 - Conditionals, Predicates, & Quantifiers </font>\n",
        "## <font color=blue>Prepare</font>"
      ]
    },
    {
      "cell_type": "markdown",
      "metadata": {
        "id": "w1t0weuGbbhA"
      },
      "source": [
        "**Instructions:** Complete the exercises below.\n",
        "\n",
        "1. First, make a copy of this Colab Notebook to your GitHub account as a GitHub Gist (File -> Save a copy as a GitHub Gist). This will allow you to save any changes you make.\n",
        "\n",
        "2. Now enter your answers to each question in the places shown below. \n",
        "\n",
        "3. To submit your work, turn in the URL for your Colab notebook. Make sure the URL has the word `gist` in it. It should look something like this:\n",
        "`https://colab.research.google.com/gist/yourgithubusername/somerandomnumbersandletters/homework-02.ipynb`"
      ]
    },
    {
      "cell_type": "markdown",
      "metadata": {
        "id": "bEsUKV6DbbhB"
      },
      "source": [
        "**Note**:\n",
        "Sample solutions are provided in order to help you **learn**. The purpose of these exercises is not to simply turn in the answers, but to take the time and effort to learn and understand the material. You are encouraged to work the problems first, then when you are satisfied that you have the correct answer, look at the sample solution and compare it with yours. "
      ]
    },
    {
      "cell_type": "markdown",
      "metadata": {
        "id": "tWpt07z8bbhB"
      },
      "source": [
        "### Exercise 2.1"
      ]
    },
    {
      "cell_type": "markdown",
      "metadata": {
        "id": "f6nBUO4DvajR"
      },
      "source": [
        "Let $p$ be the proposition &ldquo;I studied.&rdquo; and let $q$ be the proposition &ldquo;I got an A on the test.&rdquo;\n",
        "\n",
        "Express the following propositions as English sentences.\n",
        "\n",
        "1. $p \\rightarrow q$\n",
        "2. $\\lnot p \\lor \\lnot q$\n",
        "3. $\\lnot p \\rightarrow (p \\lor q)$\n",
        "4. $\\lnot p \\rightarrow \\lnot q$"
      ]
    },
    {
      "cell_type": "markdown",
      "source": [
        "1. If I studied then I got an A on the test. \n",
        "2. I did not studied or I did not got an A on the test.\n",
        "3. If I did not studied then I studied or got an A on the test. \n",
        "4. If I did not studied then I did not got an A on the test. "
      ],
      "metadata": {
        "id": "B5QJEk94Y_Q5"
      }
    },
    {
      "cell_type": "markdown",
      "metadata": {
        "id": "cka7gs7GBS72"
      },
      "source": [
        "### Exercise 2.2"
      ]
    },
    {
      "cell_type": "markdown",
      "metadata": {
        "id": "01tCtdJQLJES"
      },
      "source": [
        "True or false? Briefly explain your reasoning for each.\n",
        "1. If 2 + 2 = 4, then pigs can fly.\n",
        "2. If 2 + 7 = 5, then Elvis is alive.\n",
        "3. If pigs can fly, then dogs can't fly.\n",
        "4. If dogs have four legs, then ostriches have two legs.\n",
        "5. 2 + 1 = 3 if and only if 1 + 2 = 3.\n",
        "6. 1 + 2 = 3 if and only if 3 + 1 = 6.\n",
        "7. 1 + 3 = 2 if and only if the earth is flat.\n",
        "8. 1 < 2 if and only if 2 < 3."
      ]
    },
    {
      "cell_type": "markdown",
      "source": [
        "1. True as 2 + 2 = 4 satisfies the condition and but 'then pigs can fly' is false as pigs can't fly. \n",
        "2. False, 2+7 = 9 not 5, also Elvis is alive can be an asumption. Therefore the entire conditional is True.\n",
        "3. Neither pigs can fly nor dogs, therefore, the conditional is False then True therefore it is True.\n",
        "4. Both of the statements are true therefore the answer is true.\n",
        "5. True, for both of the values and the conditional is True.\n",
        "6. False, since the first truthvalue is true and the second is false. Therefore False if and only if True is false.\n",
        "7. True, Since both of the truthtable is false, therefore False if and only false is true. \n",
        "8. True, since both of the statements are true, therefore True if and only if is true. "
      ],
      "metadata": {
        "id": "FQFnaAWlahrV"
      }
    },
    {
      "cell_type": "markdown",
      "metadata": {
        "id": "RA3nTBfMYYUm"
      },
      "source": [
        "### Exercise 2.3"
      ]
    },
    {
      "cell_type": "markdown",
      "metadata": {
        "id": "WoqvEXUdI0-l"
      },
      "source": [
        "Let $p$ be the proposition &ldquo;You applied for college admission.&rdquo; and let $q$ be the proposition &ldquo;You were accepted.&rdquo;\n",
        "\n",
        "Express the following English sentences as symbolic compound propositions using the logical conditional (or biconditional) connective.\n",
        "\n",
        "1. Your applying for college admission is necessary for your being accepted.\n",
        "2. Your being accepted is a sufficient condition for your applying for college admission.\n",
        "3. Your applying for college admission is necessary and sufficient for your being accepted."
      ]
    },
    {
      "cell_type": "code",
      "execution_count": null,
      "metadata": {
        "id": "Dd6W3JiPI0-l",
        "colab": {
          "base_uri": "https://localhost:8080/",
          "height": 164
        },
        "outputId": "b274fcfb-745b-400a-ecc6-507dd8181eb1"
      },
      "outputs": [
        {
          "output_type": "stream",
          "name": "stdout",
          "text": [
            "\n",
            "Solutions\n",
            "\n"
          ]
        },
        {
          "output_type": "display_data",
          "data": {
            "text/plain": [
              "<IPython.core.display.Markdown object>"
            ],
            "text/markdown": "\n1. $p \\leftarrow q$ OR ( $q \\rightarrow p$)\n2. $q \\rightarrow p$\n3. $p \\leftrightarrow q$\n"
          },
          "metadata": {}
        }
      ],
      "source": [
        "#@title  {display-mode: \"form\"}\n",
        "print('''\n",
        "Solutions\n",
        "''')\n",
        "\n",
        "from IPython.display import Markdown\n",
        "display(Markdown('''\n",
        "1. $p \\\\leftarrow q$ OR ( $q \\\\rightarrow p$)\n",
        "2. $q \\\\rightarrow p$\n",
        "3. $p \\\\leftrightarrow q$\n",
        "'''))"
      ]
    },
    {
      "cell_type": "markdown",
      "metadata": {
        "id": "ElUxUNgabbhH"
      },
      "source": [
        "### Exercise 2.4"
      ]
    },
    {
      "cell_type": "markdown",
      "metadata": {
        "id": "jPAVeayTbbhH"
      },
      "source": [
        "Write Python functions to implement the conditional operator \"$\\rightarrow$\" (implies) and the biconditional operator \"$\\leftrightarrow$\" (if and only if, frequently written as \"iff\").\n",
        "\n",
        "In other words, complete these functions:"
      ]
    },
    {
      "cell_type": "markdown",
      "metadata": {
        "id": "1xGfoMf0bbhH"
      },
      "source": [
        "Then use Python to print a truth table for $p \\rightarrow q$ and $p \\leftrightarrow q$ using your `implies` and `iff` functions to verify they are working correctly. The truth table should look something like this:\n",
        "\n",
        "|p|q|p->q|p<->q\n",
        "|--|--|--|--|\n",
        "|T|T|T|T|\n",
        "|T|F|F|F|\n",
        "|F|T|T|F|\n",
        "|F|F|T|T|\n"
      ]
    },
    {
      "cell_type": "code",
      "source": [
        "\n",
        "def implies(p, q):\n",
        "    return not p or q\n",
        "\n",
        "def iff(p, q):\n",
        "    return implies(p, q) and implies(q, p)\n",
        "\n",
        "\n",
        "operators = {\n",
        "    'implies': '⟶',\n",
        "    'iff': '⟷',\n",
        "}\n",
        "\n",
        "# Print a truth table\n",
        "\n",
        "def print_truth_table(operation):\n",
        "    print(f\"p       q       p {operators[operation.__name__]} q\")\n",
        "    for p in [True, False]:\n",
        "        for q in [True, False]:\n",
        "            print(f'{p!s:<8}{q!s:<8}{operation(p,q)!s:<8}')\n",
        "    print()\n",
        "print(f' Truthtable ')\n",
        "print()\n",
        "\n",
        "print_truth_table(implies)\n",
        "print_truth_table(iff)"
      ],
      "metadata": {
        "colab": {
          "base_uri": "https://localhost:8080/"
        },
        "id": "tMw30WEzx5NP",
        "outputId": "1fd6960d-4872-41ee-8be5-e843ee748bb5"
      },
      "execution_count": null,
      "outputs": [
        {
          "output_type": "stream",
          "name": "stdout",
          "text": [
            " Truthtable \n",
            "\n",
            "p       q       p ⟶ q\n",
            "True    True    True    \n",
            "True    False   False   \n",
            "False   True    True    \n",
            "False   False   True    \n",
            "\n",
            "p       q       p ⟷ q\n",
            "True    True    True    \n",
            "True    False   False   \n",
            "False   True    False   \n",
            "False   False   True    \n",
            "\n"
          ]
        }
      ]
    },
    {
      "cell_type": "markdown",
      "metadata": {
        "id": "vl6emiMdbbhI"
      },
      "source": [
        "#### Your Answer:"
      ]
    },
    {
      "cell_type": "markdown",
      "metadata": {
        "id": "Gc1VW5ugbbhI"
      },
      "source": [
        "### Exercise 2.5"
      ]
    },
    {
      "cell_type": "markdown",
      "metadata": {
        "id": "GplkPshG0AvE"
      },
      "source": [
        "The Boolean operators `and`, `or`, and `not` are built into Python. This is an exercise in implementing these operators arithmetically. \n",
        "\n",
        "Your task is to implement the `not1`, `or1`, and `and1` functions below, **arithmetically** (i.e., do *not* the built-in Python `and`, `or`, `not`, or `if`). Use **only** the operators +, -, and *. The inputs to these functions will be zeros or ones only, with zero representing False and one representing True.\n",
        "\n",
        "You'll know you got it right if the resulting test code returns True for all three functions."
      ]
    },
    {
      "cell_type": "code",
      "execution_count": null,
      "metadata": {
        "id": "ZTxB2kIybbhI",
        "colab": {
          "base_uri": "https://localhost:8080/"
        },
        "outputId": "feed4543-084c-4897-d832-2c4e15d08731"
      },
      "outputs": [
        {
          "output_type": "stream",
          "name": "stdout",
          "text": [
            "Answers\n",
            "\n",
            "True\n",
            "True\n",
            "True\n"
          ]
        }
      ],
      "source": [
        "def not1(p):\n",
        "    return 1 - p \n",
        "     # your code here\n",
        "\n",
        "def and1(p, q):\n",
        "\n",
        "    return p * q\n",
        "     # your code here\n",
        "\n",
        "def or1(p, q):\n",
        "\n",
        "    return(p + q) - (p * q)\n",
        "     # your code here\n",
        "\n",
        "\n",
        "# Returns a bit string representing the final column\n",
        "# in a truth table for the given function.\n",
        "def test(function):\n",
        "    # handle functions with 1 argument\n",
        "    if function.__code__.co_argcount == 1:\n",
        "        return ''.join([str(function(p)) for p in [0,1]])\n",
        "\n",
        "    # otherwise assume 2 arugments\n",
        "    return ''.join([str(function(p,q)) for p in [0,1] for q in [0,1]])\n",
        "\n",
        "print(\"Answers\")\n",
        "print()\n",
        "print(test(not1) == '10') # Test not1 function\n",
        "print(test(and1) == '0001') # Test and1 function\n",
        "print(test(or1) == '0111') # Test or1 function"
      ]
    },
    {
      "cell_type": "markdown",
      "metadata": {
        "id": "_0ujyNQdbbhJ"
      },
      "source": [
        "### Exercise 2.6"
      ]
    },
    {
      "cell_type": "markdown",
      "metadata": {
        "id": "8Utd8McNw5PO"
      },
      "source": [
        "The domain of discourse for this exercise is the set of all people, and:\n",
        "* $P(x) = x$ is older than 21\n",
        "* $S(x) = x$ is a student\n",
        "\n",
        "Express in good English the following statements:\n",
        "1. $\\exists x\\ P(x)$.\n",
        "2. $\\forall x\\ P(x)$.\n",
        "3. $\\exists x\\ \\lnot P(x)$.\n",
        "4. $\\forall x\\ \\lnot P(x)$.\n",
        "5. $\\exists x\\ S(x)$.\n",
        "6. $\\forall x\\ S(x)$.\n",
        "7. $\\lnot \\exists x\\ S(x)$.\n",
        "8. $\\exists x\\ \\lnot S(x)$.\n",
        "9. $\\lnot \\forall x\\ \\lnot S(x)$.\n",
        "10. $\\forall x\\ \\lnot S(x)$."
      ]
    },
    {
      "cell_type": "markdown",
      "metadata": {
        "id": "U3RnL5QFbbhJ"
      },
      "source": [
        "#### Your Answer:"
      ]
    },
    {
      "cell_type": "code",
      "execution_count": null,
      "metadata": {
        "id": "mTbD83STWV66",
        "colab": {
          "base_uri": "https://localhost:8080/"
        },
        "outputId": "5983760f-9c6b-46ca-ccd6-5369fbe813b6"
      },
      "outputs": [
        {
          "output_type": "stream",
          "name": "stdout",
          "text": [
            "\n",
            "\n",
            "Answers\n",
            "\n",
            "1. Someone is older than 21.\n",
            "2. Everyone is older than 21.\n",
            "3. Someone is not older than 21.\n",
            "4. No one is older than 21.\n",
            "5. Someone is a student.\n",
            "6. Everyone is a student.\n",
            "7. There is no student.\n",
            "8. There is someone who is not a student. '\n",
            "9. Not all are non students.\n",
            "10. No one is a student.\n",
            "\n"
          ]
        }
      ],
      "source": [
        "#@title  {display-mode: \"form\"}\n",
        "print('''\n",
        "\n",
        "Answers\n",
        "\n",
        "1. Someone is older than 21.\n",
        "2. Everyone is older than 21.\n",
        "3. Someone is not older than 21.\n",
        "4. No one is older than 21.\n",
        "5. Someone is a student.\n",
        "6. Everyone is a student.\n",
        "7. There is no student.\n",
        "8. There is someone who is not a student. '\n",
        "9. Not all are non students.\n",
        "10. No one is a student.\n",
        "''')"
      ]
    },
    {
      "cell_type": "markdown",
      "metadata": {
        "id": "rx97eFCvbbhK"
      },
      "source": [
        "### Exercise 2.7"
      ]
    },
    {
      "cell_type": "markdown",
      "metadata": {
        "id": "tCdbghBApIWA"
      },
      "source": [
        "The domain of discourse for this exercise is the set of all people, and:\n",
        "* $F(x) = x$ is a friend\n",
        "* $C(x) = x$ is cool\n",
        "* $S(x) = x$ is a student\n",
        "* $N(x) = x$ is from Nepal\n",
        "\n",
        "Express in good English the following statements:\n",
        "1. $\\forall x\\ (F(x) \\rightarrow C(x))$.\n",
        "2. $\\exists x\\ (F(x) \\land C(x))$.\n",
        "3. $\\forall x\\ (F(x) \\land C(x))$.\n",
        "4. $\\exists x\\ (F(x) \\rightarrow C(x))$.\n",
        "5. $\\forall x\\ (S(x) \\rightarrow N(x))$.\n",
        "6. $\\exists x\\ (S(x) \\rightarrow N(x))$.\n",
        "7. $\\forall x\\ (S(x) \\land N(x))$.\n",
        "8. $\\exists x\\ (S(x) \\land N(x))$.\n",
        " "
      ]
    },
    {
      "cell_type": "markdown",
      "metadata": {
        "id": "WUI_2rb3bbhK"
      },
      "source": [
        "#### Your Answer:"
      ]
    },
    {
      "cell_type": "code",
      "execution_count": null,
      "metadata": {
        "id": "Ud2ILiJbuAxx",
        "colab": {
          "base_uri": "https://localhost:8080/"
        },
        "outputId": "c5d6de20-9435-4dd9-f3c0-ac6c33348258"
      },
      "outputs": [
        {
          "output_type": "stream",
          "name": "stdout",
          "text": [
            "\n",
            "Answers\n",
            "\n",
            "1. All friends are cool.\n",
            "2. Someone is a friend and is cool.\n",
            "3. Everyone is a friend and is cool.\n",
            "4. Some friends are cool.\n",
            "5. All students are from Nepal.\n",
            "6. Someone if is a student is from Nepal.\n",
            "7. Everyone is a student and is from Nepal.\n",
            "8. Some student is from Nepal.\n",
            "\n"
          ]
        }
      ],
      "source": [
        "#@title  {display-mode: \"form\"}\n",
        "print('''\n",
        "Answers\n",
        "\n",
        "1. All friends are cool.\n",
        "2. Someone is a friend and is cool.\n",
        "3. Everyone is a friend and is cool.\n",
        "4. Some friends are cool.\n",
        "5. All students are from Nepal.\n",
        "6. Someone if is a student is from Nepal.\n",
        "7. Everyone is a student and is from Nepal.\n",
        "8. Some student is from Nepal.\n",
        "''')"
      ]
    },
    {
      "cell_type": "markdown",
      "metadata": {
        "id": "ETtjI--dbbhK"
      },
      "source": [
        "### Exercise 2.8"
      ]
    },
    {
      "cell_type": "markdown",
      "metadata": {
        "id": "Hplq9f-xuh6p"
      },
      "source": [
        "Translate the following statements into logical expressions using predicates, quantifiers, and logical connectives:\n",
        "1. Everyone's a critic.\n",
        "2. No one is perfect.\n",
        "3. At least one of your friends is perfect.\n",
        "4. All of your friends are critics.\n",
        "5. Everyone is a critic or someone is your friend.\n",
        "6. No one is a critic and everyone is your friend.\n",
        "7. Some state has no neighboring states.\n",
        "8. Whenever there is an error, at least one error message is displayed.\n",
        "9. All the programs have been scanned, but at least one program has a virus."
      ]
    },
    {
      "cell_type": "markdown",
      "metadata": {
        "id": "ZGOyJc3MbbhL"
      },
      "source": [
        "#### Your Answer:"
      ]
    },
    {
      "cell_type": "code",
      "execution_count": null,
      "metadata": {
        "id": "rtHun4Eiuh6q",
        "colab": {
          "base_uri": "https://localhost:8080/",
          "height": 259
        },
        "outputId": "f0a7d1d7-c1c4-4610-c4f5-a689aee43ec7"
      },
      "outputs": [
        {
          "output_type": "stream",
          "name": "stdout",
          "text": [
            "Answers\n"
          ]
        },
        {
          "output_type": "display_data",
          "data": {
            "text/plain": [
              "<IPython.core.display.Markdown object>"
            ],
            "text/markdown": "\n1. $\\forall x\\ C(x)$.\n2. $\\forall x\\ \\lnot P(x)$.\n3. $\\exists x\\ (F(x) \\land P(x))$\n4. $\\forall x\\ (F(x) \\rightarrow C(x))$\n5. $\\forall x\\ C(x) \\lor \\exists x\\ F(x)$\n6. $\\lnot \\exists x\\ C(x) \\land \\forall x\\ F(x)$\n7. $\\exists x\\ S(x) \\land (\\forall y\\ S(y) \\rightarrow \\lnot B(x, y))$\n8. $\\exists x\\ E(x) \\rightarrow (\\exists y\\ M(y) \\land is\\_D(y))$\n9. $[\\forall x\\ P(x) \\rightarrow S(x))] \\land [\\exists x\\ (P(x) \\land V(x))]$\n"
          },
          "metadata": {}
        }
      ],
      "source": [
        "#@title  {display-mode: \"form\"}\n",
        "from IPython.display import Markdown\n",
        "print(\"Answers\")\n",
        "display(Markdown('''\n",
        "1. $\\\\forall x\\\\ C(x)$.\n",
        "2. $\\\\forall x\\\\ \\\\lnot P(x)$.\n",
        "3. $\\\\exists x\\\\ (F(x) \\\\land P(x))$\n",
        "4. $\\\\forall x\\\\ (F(x) \\\\rightarrow C(x))$\n",
        "5. $\\\\forall x\\\\ C(x) \\\\lor \\\\exists x\\\\ F(x)$\n",
        "6. $\\\\lnot \\\\exists x\\\\ C(x) \\\\land \\\\forall x\\\\ F(x)$\n",
        "7. $\\\\exists x\\\\ S(x) \\\\land (\\\\forall y\\\\ S(y) \\\\rightarrow \\\\lnot B(x, y))$\n",
        "8. $\\\\exists x\\\\ E(x) \\\\rightarrow (\\\\exists y\\\\ M(y) \\\\land is\\_D(y))$\n",
        "9. $[\\\\forall x\\\\ P(x) \\\\rightarrow S(x))] \\\\land [\\\\exists x\\\\ (P(x) \\\\land V(x))]$\n",
        "'''))"
      ]
    },
    {
      "cell_type": "markdown",
      "metadata": {
        "id": "REcbbM1sbbhL"
      },
      "source": [
        "### Exercise 2.9"
      ]
    },
    {
      "cell_type": "markdown",
      "metadata": {
        "id": "IYh5WJzNbbhL"
      },
      "source": [
        "1. Write a function `is_even(x)` that returns `True` if `x` is even. \n",
        "\n",
        "   Test this function with several different values for `x` to make sure it is working the way you expect.\n",
        "\n",
        "   Notice that `is_even(x)` is a predicate. In other words, it is a function that returns `True` if the input `x` has the property defined by the predicate. \n",
        "\n",
        "\n",
        "2. Now write a function called `forall` that takes two parameters, `p` and `s`, where `p` is a predicate and `s` is a list of numbers. `forall` should return `True` if every item in `s` has the property `p`.\n",
        "\n",
        "   Test the `forall` function by passing in your `is_even` function as the first argument and the list `s = [2, 4, 6, 8, 10]` as the second argument. The result should be `True` because every number in `s` is even.\n",
        "\n",
        "   Then test the `forall` function by passing in your `is_even` function with the list `s = [1, 2, 3, 4, 5]`. The result should be `False`, because not *every* number in `s` is even. \n",
        "\n",
        "\n"
      ]
    },
    {
      "cell_type": "code",
      "execution_count": null,
      "metadata": {
        "id": "SYx_KVvVbbhL"
      },
      "outputs": [],
      "source": [
        "# Define a predicate that returns True if x is even\n",
        "def is_even(x):\n",
        "    return not(x % 2)\n",
        "     # your code here\n",
        "\n",
        "\n",
        "# Returns True if p is True for all integers in s\n",
        "def forall(p, s):\n",
        "    for x in s:\n",
        "      if not p(x):\n",
        "          return False\n",
        "    return True\n",
        "     # your code here\n"
      ]
    },
    {
      "cell_type": "markdown",
      "metadata": {
        "id": "CLHCWwQcbbhM"
      },
      "source": [
        "You'll know you have correctly implemented `forall` if the following code block returns True for each test."
      ]
    },
    {
      "cell_type": "code",
      "execution_count": null,
      "metadata": {
        "id": "cyVrKWF1bbhM",
        "colab": {
          "base_uri": "https://localhost:8080/"
        },
        "outputId": "ffe3c490-d4ed-442f-d28b-8c98d00eda65"
      },
      "outputs": [
        {
          "output_type": "stream",
          "name": "stdout",
          "text": [
            "True\n",
            "True\n"
          ]
        }
      ],
      "source": [
        "# Test forall and is_even with a list containing only even numbers\n",
        "s = [2, 4, 6, 8, 10]\n",
        "print(forall(is_even, s) == True)\n",
        "\n",
        "\n",
        "# Test forall and is_even with a list containing some numbers that are not even\n",
        "s = [1, 2, 3, 4, 25]\n",
        "print(forall(is_even, s) == False)"
      ]
    },
    {
      "cell_type": "markdown",
      "metadata": {
        "id": "k0sGA_WKbbhM"
      },
      "source": [
        "### Exercise 2.10"
      ]
    },
    {
      "cell_type": "markdown",
      "metadata": {
        "id": "WQw2MDn-bbhM"
      },
      "source": [
        "Write a function called `forsome` that takes a predicate `p` and a list `s`. `forsome` should return `True` if *at least one* number in the list `s` has the property `p`.\n",
        "\n",
        "Test the `forsome` function by passing in your `is_even` function as the first argument and the list `s = [1, 3, 5, 7, 9]` as the second argument. The result should be `False`.\n",
        "\n",
        "Then test the `forsome` function by passing in your `is_even` function with the list `s = [1,2,3,4,5,6]`. The result should be `True`, because at least one number in `s` is even."
      ]
    },
    {
      "cell_type": "code",
      "execution_count": null,
      "metadata": {
        "id": "qr55mW46bbhM"
      },
      "outputs": [],
      "source": [
        "def forsome(p, s):\n",
        "    for x in s:\n",
        "        if p(x):\n",
        "          return True\n",
        "    return False"
      ]
    },
    {
      "cell_type": "markdown",
      "metadata": {
        "id": "tuWS-AFYbbhM"
      },
      "source": [
        "You'll know you have correctly implemented `forsome` if the following code block returns True for each test."
      ]
    },
    {
      "cell_type": "code",
      "execution_count": null,
      "metadata": {
        "id": "PCwt3E_HbbhN",
        "colab": {
          "base_uri": "https://localhost:8080/"
        },
        "outputId": "167ecf0c-38bb-436e-e33e-f22a20089981"
      },
      "outputs": [
        {
          "output_type": "stream",
          "name": "stdout",
          "text": [
            "True\n",
            "True\n"
          ]
        }
      ],
      "source": [
        "# Test forsome and is_even with a list containing only odd numbers\n",
        "s = [1, 3, 5, 7, 9]\n",
        "print(forsome(is_even, s) == False)\n",
        "\n",
        "\n",
        "# Test forsome with a list containing some numbers that are even\n",
        "s = [1, 2, 3, 4, 5]\n",
        "print(forsome(is_even, s) == True)"
      ]
    },
    {
      "cell_type": "markdown",
      "metadata": {
        "id": "7vdH2GoxbbhN"
      },
      "source": [
        "### Exercise 2.11"
      ]
    },
    {
      "cell_type": "markdown",
      "metadata": {
        "id": "GLDGlDnebbhN"
      },
      "source": [
        "In this problem, the domain is the integers `[-5, -4, -3, -2, -1, 0, 1, 2, 3, 4, 5]`.\n",
        "\n",
        "Determine the truth value of each of the following:\n",
        "\n",
        "1. $\\forall x (\\texttt{x is odd})$\n",
        "\n",
        "1. $\\exists x (\\texttt{x is odd})$\n",
        "\n",
        "1. $\\forall x (\\texttt{x is negative})$\n",
        "\n",
        "1. $\\exists x (\\texttt{x is negative})$\n",
        "\n",
        "1. $\\forall x (x^2 - x \\ne 1)$\n",
        "\n",
        "1. $\\forall x (x^2 > 0)$\n",
        "\n",
        "1. $\\exists x (x^2 > 0)$\n",
        "\n",
        "1. $\\forall x (x \\le x + 1)$\n",
        "\n",
        "1. $\\exists x (x + x = 1)$\n",
        "\n",
        "1. $\\exists x (x + 2 = 1)$\n",
        "\n",
        "Then use your `forall` and `forsome` functions to determine the truth value of each statement. You will need to write a predicate function for each one, similar to the `is_even` function you wrote previously. (You are encouraged to use *lambda* functions, but you may also use regular named functions)"
      ]
    },
    {
      "cell_type": "markdown",
      "metadata": {
        "id": "iRX6sYjAbbhN"
      },
      "source": [
        "#### Your Answer:"
      ]
    },
    {
      "cell_type": "code",
      "source": [
        "domain = list(range(-5, 6))\n",
        "print()\n",
        "print('Answers')\n",
        "print()\n",
        "print(f'1.  {forall(lambda x: x % 2, domain)}')\n",
        "print(f'2.  {forsome(lambda x: x % 2, domain)}')\n",
        "print(f'3.  {forall(lambda x: x < 0, domain)}')\n",
        "print(f'4.  {forsome(lambda x: x < 0, domain)}')\n",
        "print(f'5.  {forall(lambda x: x ** 2 - x != 1, domain)}')\n",
        "print(f'6.  {forall(lambda x: x^2 > 0, domain)}')\n",
        "print(f'7.  {forsome(lambda x: x^2 > 0, domain)}')\n",
        "print(f'8.  {forall(lambda x: x <= x + 1, domain)}')\n",
        "print(f'9.  {forsome(lambda x: x + x == 1, domain)}')\n",
        "print(f'10. {forsome(lambda x: x + 2 == 1, domain)}')\n"
      ],
      "metadata": {
        "colab": {
          "base_uri": "https://localhost:8080/"
        },
        "id": "zb994tBD7paa",
        "outputId": "74f11168-8896-4578-c5c8-68812603b084"
      },
      "execution_count": null,
      "outputs": [
        {
          "output_type": "stream",
          "name": "stdout",
          "text": [
            "\n",
            "Answers\n",
            "\n",
            "1.  False\n",
            "2.  True\n",
            "3.  False\n",
            "4.  True\n",
            "5.  True\n",
            "6.  False\n",
            "7.  True\n",
            "8.  True\n",
            "9.  False\n",
            "10. True\n"
          ]
        }
      ]
    },
    {
      "cell_type": "markdown",
      "metadata": {
        "id": "HCjgnJwTbbhN"
      },
      "source": [
        "----------------------\n",
        "## Sample Solutions\n",
        "\n",
        "**Note**:\n",
        "Sample solutions are provided in order to help you **learn**. The purpose of these exercises is not to simply turn in the answers, but to take the time and effort to learn and understand the material. You are encouraged to work the problems first, then when you are satisfied that you have the correct answer, look at the sample solution and compare it with yours. "
      ]
    },
    {
      "cell_type": "code",
      "execution_count": null,
      "metadata": {
        "id": "tyt5dNw_vajW",
        "colab": {
          "base_uri": "https://localhost:8080/"
        },
        "outputId": "a9838284-d824-4b58-91c1-15645476c606"
      },
      "outputs": [
        {
          "output_type": "stream",
          "name": "stdout",
          "text": [
            "\n",
            "1. If I studied then I got an A on the test.\n",
            "2. I did not study or I did not get an A on the test.\n",
            "3. If I didn't study then I studied or I got an A on the test.\n",
            "4. If I did not study then I did not get an A on the test.\n",
            "\n"
          ]
        }
      ],
      "source": [
        "#@title Sample Solution 2.1 {display-mode: \"form\"}\n",
        "print('''\n",
        "1. If I studied then I got an A on the test.\n",
        "2. I did not study or I did not get an A on the test.\n",
        "3. If I didn't study then I studied or I got an A on the test.\n",
        "4. If I did not study then I did not get an A on the test.\n",
        "''')"
      ]
    },
    {
      "cell_type": "code",
      "execution_count": null,
      "metadata": {
        "id": "d6vB5vFaLJES",
        "colab": {
          "base_uri": "https://localhost:8080/"
        },
        "outputId": "692108af-c1a6-4c4a-8b42-24d3f53ccfcd"
      },
      "outputs": [
        {
          "output_type": "stream",
          "name": "stdout",
          "text": [
            "\n",
            "1. This is false, because \"2 + 2 = 4\" is true but\n",
            "   \"pigs can fly\" is false.\n",
            "2. Both parts are false, so the conditional is true.\n",
            "3. This is true, because pigs can't fly, and neither can dogs,\n",
            "   so we have false $\\rightarrow$ false.\n",
            "4. We have true $\\rightarrow$ true, so this is true.\n",
            "5. As we have true $\\leftrightarrow$ true, this is true.\n",
            "6. As we have true $\\leftrightarrow$ false, this is false.\n",
            "7. As we have false $\\leftrightarrow$ false, this is true.\n",
            "8. Again we have true $\\rightarrow$ true, so true.\n",
            "\n"
          ]
        }
      ],
      "source": [
        "#@title Sample Solution 2.2 {display-mode: \"form\"}\n",
        "print('''\n",
        "1. This is false, because \"2 + 2 = 4\" is true but\n",
        "   \"pigs can fly\" is false.\n",
        "2. Both parts are false, so the conditional is true.\n",
        "3. This is true, because pigs can't fly, and neither can dogs,\n",
        "   so we have false $\\\\rightarrow$ false.\n",
        "4. We have true $\\\\rightarrow$ true, so this is true.\n",
        "5. As we have true $\\\\leftrightarrow$ true, this is true.\n",
        "6. As we have true $\\\\leftrightarrow$ false, this is false.\n",
        "7. As we have false $\\\\leftrightarrow$ false, this is true.\n",
        "8. Again we have true $\\\\rightarrow$ true, so true.\n",
        "''')"
      ]
    },
    {
      "cell_type": "code",
      "execution_count": null,
      "metadata": {
        "id": "s-y_fLFMI0-m",
        "colab": {
          "base_uri": "https://localhost:8080/"
        },
        "outputId": "8d78fe93-646c-449e-993e-d6a56909a85e"
      },
      "outputs": [
        {
          "output_type": "display_data",
          "data": {
            "text/plain": [
              "<IPython.core.display.Markdown object>"
            ],
            "text/markdown": "\n1. $p \\leftarrow q$ (or $q \\rightarrow p$)\n2. $q \\rightarrow p$\n3. $p \\leftrightarrow q$\n"
          },
          "metadata": {}
        }
      ],
      "source": [
        "#@title Sample Solution 2.3 {display-mode: \"form\"}\n",
        "from IPython.display import Markdown\n",
        "display(Markdown('''\n",
        "1. $p \\\\leftarrow q$ (or $q \\\\rightarrow p$)\n",
        "2. $q \\\\rightarrow p$\n",
        "3. $p \\\\leftrightarrow q$\n",
        "'''))"
      ]
    },
    {
      "cell_type": "code",
      "execution_count": null,
      "metadata": {
        "id": "7Jzz0SYEbbhO",
        "colab": {
          "base_uri": "https://localhost:8080/"
        },
        "outputId": "5fa6108e-efb7-4bb2-b4e4-cf44d1fcbfee"
      },
      "outputs": [
        {
          "output_type": "stream",
          "name": "stdout",
          "text": [
            "p       q       p ⟶ q\n",
            "True    True    True    \n",
            "True    False   False   \n",
            "False   True    True    \n",
            "False   False   True    \n",
            "\n",
            "p       q       p ⟷ q\n",
            "True    True    True    \n",
            "True    False   False   \n",
            "False   True    False   \n",
            "False   False   True    \n",
            "\n"
          ]
        }
      ],
      "source": [
        "#@title Sample Solution 2.4 {display-mode: \"form\"}\n",
        "def implies(p, q):\n",
        "    return not p or q\n",
        "\n",
        "def iff(p, q):\n",
        "    return implies(p, q) and implies(q, p)\n",
        "\n",
        "\n",
        "operators = {\n",
        "    'implies': '⟶',\n",
        "    'iff': '⟷',\n",
        "}\n",
        "\n",
        "# Print a truth table\n",
        "def print_truth_table(operation):\n",
        "    print(f\"p       q       p {operators[operation.__name__]} q\")\n",
        "    for p in [True, False]:\n",
        "        for q in [True, False]:\n",
        "            print(f'{p!s:<8}{q!s:<8}{operation(p,q)!s:<8}')\n",
        "    print()\n",
        "\n",
        "print_truth_table(implies)\n",
        "print_truth_table(iff)"
      ]
    },
    {
      "cell_type": "code",
      "execution_count": null,
      "metadata": {
        "id": "edSA5uN2bbhP"
      },
      "outputs": [],
      "source": [
        "#@title Sample Solution 2.5 {display-mode: \"form\"}\n",
        "def not1(p):\n",
        "    return 1 - p\n",
        "\n",
        "def and1(p, q):\n",
        "    return p * q\n",
        "\n",
        "def or1(p, q):\n",
        "    return (p + q) - (p * q)"
      ]
    },
    {
      "cell_type": "code",
      "execution_count": null,
      "metadata": {
        "id": "42a7AycOWWfS",
        "colab": {
          "base_uri": "https://localhost:8080/"
        },
        "outputId": "8256349d-4372-45ab-9c9e-f9c816576c14"
      },
      "outputs": [
        {
          "output_type": "stream",
          "name": "stdout",
          "text": [
            "\n",
            "1. Somebody is older than 21.\n",
            "2. Everyone is older than 21.\n",
            "3. Someone is not older than 21.\n",
            "4. No one is older than 21.\n",
            "5. Someone (or some person) is a student.\n",
            "6. Everyone is a student.\n",
            "7. There is no student.\n",
            "8. There is someone who is not a student.\n",
            "9. Not all people are non-students.\n",
            "10. No one is a student.\n",
            "\n"
          ]
        }
      ],
      "source": [
        "#@title Sample Solution 2.6 {display-mode: \"form\"}\n",
        "print('''\n",
        "1. Somebody is older than 21.\n",
        "2. Everyone is older than 21.\n",
        "3. Someone is not older than 21.\n",
        "4. No one is older than 21.\n",
        "5. Someone (or some person) is a student.\n",
        "6. Everyone is a student.\n",
        "7. There is no student.\n",
        "8. There is someone who is not a student.\n",
        "9. Not all people are non-students.\n",
        "10. No one is a student.\n",
        "''')"
      ]
    },
    {
      "cell_type": "code",
      "execution_count": null,
      "metadata": {
        "id": "mz91zQ_NuA-Q",
        "colab": {
          "base_uri": "https://localhost:8080/"
        },
        "outputId": "e32c5051-11d9-4fd3-ce5e-724e4840edf3"
      },
      "outputs": [
        {
          "output_type": "stream",
          "name": "stdout",
          "text": [
            "\n",
            "1. All friends are cool.\n",
            "2. Someone is a friend and is cool.\n",
            "3. Everyone is a friend and is cool.\n",
            "4. Some friends are cool. (Better than 'For some person, if that person is a friend, then that person is cool.')\n",
            "5. All students are from Nepal.\n",
            "6. Someone, if he/she is a student then he/she is from Nepal. (Better than 'For some person, if that person is a student, then that student is from Nepal.)\n",
            "7. Everyone is a student and is from Nepal.\n",
            "8. Some student is from Nepal.\n",
            "\n"
          ]
        }
      ],
      "source": [
        "#@title Sample Solution 2.7 {display-mode: \"form\"}\n",
        "print('''\n",
        "1. All friends are cool.\n",
        "2. Someone is a friend and is cool.\n",
        "3. Everyone is a friend and is cool.\n",
        "4. Some friends are cool. (Better than 'For some person, if that person is a friend, then that person is cool.')\n",
        "5. All students are from Nepal.\n",
        "6. Someone, if he/she is a student then he/she is from Nepal. (Better than 'For some person, if that person is a student, then that student is from Nepal.)\n",
        "7. Everyone is a student and is from Nepal.\n",
        "8. Some student is from Nepal.\n",
        "''')"
      ]
    },
    {
      "cell_type": "code",
      "execution_count": null,
      "metadata": {
        "id": "WmpQNI1Auh6q",
        "colab": {
          "base_uri": "https://localhost:8080/"
        },
        "outputId": "6c9f05de-e1eb-43ce-d0bc-5663c5363885"
      },
      "outputs": [
        {
          "output_type": "display_data",
          "data": {
            "text/plain": [
              "<IPython.core.display.Markdown object>"
            ],
            "text/markdown": "\n1. $\\forall x\\ C(x)$\n2. $\\forall x\\ \\lnot P(x)$\n3. $\\exists x\\ (F(x) \\land P(x))$\n4. $\\forall x\\ (F(x) \\rightarrow C(x))$\n5. $\\forall x\\ C(x) \\lor \\exists x\\ F(x)$\n6. $\\lnot \\exists x\\ C(x) \\land \\forall x\\ F(x)$\n7. $\\exists x\\ State(x) \\land (\\forall y\\ State(y) \\rightarrow \\lnot ShareABorder(x, y))$\n8. $\\exists x\\ is\\_an\\_Error(x) \\rightarrow (\\exists y\\ is\\_an\\_error\\_Message(y) \\land is\\_Displayed(y))$\n9. $[\\forall x\\ (is\\_a\\_Program(x) \\rightarrow has\\_been\\_Scanned(x))] \\land [\\exists x\\ (is\\_a\\_Program(x) \\land has\\_a\\_Virus(x))]$\n"
          },
          "metadata": {}
        }
      ],
      "source": [
        "#@title Sample Solution 2.8 {display-mode: \"form\"}\n",
        "from IPython.display import Markdown\n",
        "display(Markdown('''\n",
        "1. $\\\\forall x\\\\ C(x)$\n",
        "2. $\\\\forall x\\\\ \\\\lnot P(x)$\n",
        "3. $\\\\exists x\\\\ (F(x) \\\\land P(x))$\n",
        "4. $\\\\forall x\\\\ (F(x) \\\\rightarrow C(x))$\n",
        "5. $\\\\forall x\\\\ C(x) \\\\lor \\\\exists x\\\\ F(x)$\n",
        "6. $\\\\lnot \\\\exists x\\\\ C(x) \\\\land \\\\forall x\\\\ F(x)$\n",
        "7. $\\\\exists x\\\\ State(x) \\\\land (\\\\forall y\\\\ State(y) \\\\rightarrow \\\\lnot ShareABorder(x, y))$\n",
        "8. $\\\\exists x\\\\ is\\_an\\_Error(x) \\\\rightarrow (\\\\exists y\\\\ is\\_an\\_error\\_Message(y) \\\\land is\\_Displayed(y))$\n",
        "9. $[\\\\forall x\\\\ (is\\_a\\_Program(x) \\\\rightarrow has\\_been\\_Scanned(x))] \\\\land [\\\\exists x\\\\ (is\\_a\\_Program(x) \\\\land has\\_a\\_Virus(x))]$\n",
        "'''))"
      ]
    },
    {
      "cell_type": "code",
      "execution_count": null,
      "metadata": {
        "id": "SsWkrMtfbbhQ"
      },
      "outputs": [],
      "source": [
        "#@title Sample Solution 2.9 {display-mode: \"form\"}\n",
        "def is_even(x):\n",
        "    return not(x % 2)\n",
        "\n",
        "def forall(p, s):\n",
        "    for x in s:\n",
        "        if not p(x):\n",
        "            return False\n",
        "    return True"
      ]
    },
    {
      "cell_type": "code",
      "execution_count": null,
      "metadata": {
        "id": "wGCEaranbbhQ"
      },
      "outputs": [],
      "source": [
        "#@title Sample Solution 2.10 {display-mode: \"form\"}\n",
        "def forsome(p, s):\n",
        "    for x in s:\n",
        "        if p(x):\n",
        "            return True\n",
        "    return False"
      ]
    },
    {
      "cell_type": "code",
      "execution_count": null,
      "metadata": {
        "id": "Piw7uyzdbbhQ",
        "colab": {
          "base_uri": "https://localhost:8080/"
        },
        "outputId": "559a8caa-d337-4caa-d9d6-181aae5eafe5"
      },
      "outputs": [
        {
          "output_type": "stream",
          "name": "stdout",
          "text": [
            "1. False\n",
            "2. True\n",
            "3. False\n",
            "4. True\n",
            "5. True\n",
            "6. False\n",
            "7. True\n",
            "8. True\n",
            "9. False\n",
            "10. True\n"
          ]
        }
      ],
      "source": [
        "#@title Sample Solution 2.11 {display-mode: \"form\"}\n",
        "\n",
        "domain = list(range(-5, 6))\n",
        "\n",
        "print(f'1. {forall(lambda x: x % 2, domain)}')\n",
        "print(f'2. {forsome(lambda x: x % 2, domain)}')\n",
        "print(f'3. {forall(lambda x: x < 0, domain)}')\n",
        "print(f'4. {forsome(lambda x: x < 0, domain)}')\n",
        "print(f'5. {forall(lambda x: x**2 - x != 1, domain)}')\n",
        "print(f'6. {forall(lambda x: x^2 > 0, domain)}')\n",
        "print(f'7. {forsome(lambda x: x^2 > 0, domain)}')\n",
        "print(f'8. {forall(lambda x: x <= x + 1, domain)}')\n",
        "print(f'9. {forsome(lambda x: x + x == 1, domain)}')\n",
        "print(f'10. {forsome(lambda x: x + 2 == 1, domain)}')\n"
      ]
    }
  ],
  "metadata": {
    "colab": {
      "collapsed_sections": [],
      "name": "cse280-homework-02.ipynb",
      "provenance": [],
      "toc_visible": true,
      "include_colab_link": true
    },
    "kernelspec": {
      "display_name": "Python 3",
      "language": "python",
      "name": "python3"
    },
    "language_info": {
      "codemirror_mode": {
        "name": "ipython",
        "version": 3
      },
      "file_extension": ".py",
      "mimetype": "text/x-python",
      "name": "python",
      "nbconvert_exporter": "python",
      "pygments_lexer": "ipython3",
      "version": "3.9.0"
    }
  },
  "nbformat": 4,
  "nbformat_minor": 0
}