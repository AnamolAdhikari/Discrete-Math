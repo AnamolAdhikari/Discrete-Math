{
  "cells": [
    {
      "cell_type": "markdown",
      "metadata": {
        "id": "view-in-github",
        "colab_type": "text"
      },
      "source": [
        "<a href=\"https://colab.research.google.com/github/AnamolAdhikari/Discrete-Math/blob/main/cse280_homework_03.ipynb\" target=\"_parent\"><img src=\"https://colab.research.google.com/assets/colab-badge.svg\" alt=\"Open In Colab\"/></a>"
      ]
    },
    {
      "cell_type": "markdown",
      "metadata": {
        "id": "_Mr3AvSgSswx"
      },
      "source": [
        "# <font color=blue>Homework 3 - Quantifiers & Sets </font>\n",
        "## <font color=blue>Prepare</font>"
      ]
    },
    {
      "cell_type": "markdown",
      "metadata": {
        "id": "w1t0weuGbbhA"
      },
      "source": [
        "**Instructions:** Complete the exercises below.\n",
        "\n",
        "1. First, make a copy of this Colab Notebook to your GitHub account as a GitHub Gist (File -> Save a copy as a GitHub Gist). This will allow you to save any changes you make.\n",
        "\n",
        "2. Now enter your answers to each question in the places shown below. \n",
        "\n",
        "3. To submit your work, turn in the URL for your Colab notebook. Make sure the URL has the word `gist` in it. It should look something like this:\n",
        "`https://colab.research.google.com/gist/yourgithubusername/somerandomnumbersandletters/homework-03.ipynb`"
      ]
    },
    {
      "cell_type": "markdown",
      "metadata": {
        "id": "bEsUKV6DbbhB"
      },
      "source": [
        "**Note**:\n",
        "Sample solutions are provided in order to help you **learn**. The purpose of these exercises is not to simply turn in the answers, but to take the time and effort to learn and understand the material. You are encouraged to work the problems first, then when you are satisfied that you have the correct answer, look at the sample solution and compare it with yours. "
      ]
    },
    {
      "cell_type": "markdown",
      "metadata": {
        "id": "tWpt07z8bbhB"
      },
      "source": [
        "### Exercise 3.1"
      ]
    },
    {
      "cell_type": "markdown",
      "metadata": {
        "id": "X4vYB9bMntxh"
      },
      "source": [
        "Let $Q(x, y)$ be the statement &ldquo;$x$ asks $y$ a question&rdquo;, where the domain for both $x$ and $y$ consists of all students in a study group.\n",
        "\n",
        "Express each nested quantification as an English sentence.  (Hint: Use \"every\" and \"some\" (or \"at least one\")).\n",
        "\n",
        "1. $\\forall x \\exists y\\ Q(x, y)$.\n",
        "2. $\\forall x \\forall y\\ Q(x, y)$.\n",
        "3. $\\exists x \\exists y\\ Q(x, y)$.\n",
        "4. $\\exists x \\forall y\\ Q(x, y)$.\n",
        "5. $\\forall y \\exists x\\ Q(x, y)$.\n",
        "6. $\\exists y \\exists x\\ Q(x, y)$."
      ]
    },
    {
      "cell_type": "markdown",
      "metadata": {
        "id": "JIVFRE_KbbhC"
      },
      "source": [
        "#### Your Answer:\n",
        "1. Every student asks some student a question.\n",
        "2. Every student asks every student a question.\n",
        "3. Some student asks at least one student a question.\n",
        "4. Some student asks every student a question.\n",
        "5. Every student is asked a quesion by some or at least one student. \n",
        "6. Some student asks some student a question"
      ]
    },
    {
      "cell_type": "markdown",
      "metadata": {
        "id": "ElUxUNgabbhH"
      },
      "source": [
        "### Exercise 3.2\n",
        "Negate each of the following logical statements by adding a negation symbol $\\neg$, then apply De Morgan's Laws so that each negation symbol $\\neg$ immediately preceeds a predicate. For example:\n",
        "\n",
        "$\\forall x \\exists y P(x,y)$ when negated would become $\\exists x \\forall y \\neg P(x,y)$\n",
        "\n",
        "1. $ \\forall x \\forall y P(x,y) $\n",
        "2. $ \\exists x \\forall y P(x,y) $\n",
        "5. $ \\exists x \\exists y \\forall z \\neg P(x,y,z) $\n",
        "6. $ \\forall x \\exists y \\forall z P(x,y,z) $\n",
        "4. $ \\exists x \\exists y (P(x,y) \\land Q(x,y))$\n",
        "3. $ \\forall x \\forall y \\exists z (P(x,y) \\rightarrow Q(y,z))$\n"
      ]
    },
    {
      "cell_type": "markdown",
      "metadata": {
        "id": "vl6emiMdbbhI"
      },
      "source": [
        "1. $\\exists x \\exists y \\neg P(x,y)$\n",
        "2. $\\forall x \\exists y \\neg P(x,y)$\n",
        "5. $\\forall x \\forall y \\exists z P(x,y,z)$\n",
        "6. $\\exists x \\forall y \\exists z \\neg P(x,y,z)$\n",
        "4. $\\forall x \\forall y (\\neg P(x,y) \\lor \\neg Q(x,y))$\n",
        "3. $\\exists x \\exists y \\forall z (P(x,y) \\land \\neg Q(y,z))$#### Your Answer:"
      ]
    },
    {
      "cell_type": "markdown",
      "metadata": {
        "id": "cka7gs7GBS72"
      },
      "source": [
        "### Exercise 3.3"
      ]
    },
    {
      "cell_type": "markdown",
      "metadata": {
        "id": "1S_jxnGHG83L"
      },
      "source": [
        "Express the following statements using quantifiers; then form the negation of the statement and simpify using De Morgan's Laws to move the negation symbol $\\lnot$ as far to the right as possible; then translate the negation into simple English.\n",
        "\n",
        "For example, the statement \"All dogs can bark\" is $\\forall x (Dog(x) \\rightarrow Bark(x))$. The negation is $\\neg \\forall x (Dog(x) \\rightarrow Bark(x))$. Applying De Morgan's Laws results in $\\exists x (Dog(x) \\wedge \\neg Bark(x))$. Expressed in English is \"Some dog cannot bark\" or \"There is a dog that cannot bark\".\n",
        "\n",
        "(Hint:  How do you negate a conditional? Remember $p \\rightarrow q \\equiv \\neg p \\lor q$ )\n",
        "\n",
        "1. All horses have hooves.\n",
        "2. No horse can fly.\n",
        "3. Every bat is blind.\n",
        "4. No bear can dance.\n",
        "5. There is at least one penguin that can swim and catch fish."
      ]
    },
    {
      "cell_type": "markdown",
      "metadata": {
        "id": "1TzQYrqxbbhE"
      },
      "source": [
        "#### Your Answer:\n",
        "1. $\\forall x\\ H(x) \\rightarrow V(x)$; negated is $\\exists x\\ H(x) \\land \\lnot V\n",
        "(x)$ \n",
        "-> 'Some horse does not have hooves.'\n",
        "2. $\\forall x\\ H(x) \\rightarrow \\lnot F(x)$; negated is $\\exists x\\ H(x) \\land F(x) $ \n",
        "->'Some horse can fly'.\n",
        "3. $\\forall x\\ Bat(x) \\rightarrow Blind(x)$; negated is $\\exists x\\ Bat(x) \\land \\lnot Blind(x) $\n",
        "-> 'Some bat is not blind'.\n",
        "4. $\\forall x\\ B(x) \\rightarrow \\lnot D(x)$; negated is $\\exists x\\ B(x) \\land D(x) $ \n",
        "-> 'Some bear can dance'. \n",
        "5. $\\exists x\\ Penguin(x) \\land can\\_Swim(x) \\land can\\_Catch\\_Fish(x)$; negated is $\\forall x\\ \\lnot Penguin(x) \\lor \\lnot can\\_Swim(x) \\lor \\lnot can\\_Catch\\_Fish(x)  $ \n",
        "->'Everything is either a non-penguin or a non-swimmer or a non-fish-catcher'.\n"
      ]
    },
    {
      "cell_type": "markdown",
      "metadata": {
        "id": "RA3nTBfMYYUm"
      },
      "source": [
        "### Exercise 3.4"
      ]
    },
    {
      "cell_type": "markdown",
      "metadata": {
        "id": "mUnYPiOenuSk"
      },
      "source": [
        "Translate the following into English, then determine the truth values of each statement. Assume the domain for $x$ and $y$ is $\\mathbb{Z}$ ($\\mathbb{Z}$ represents the integers).\n",
        "1. $\\forall x \\forall y\\ ((x \\ne 0) \\land (y \\ne 0) \\leftrightarrow (xy \\ne 0))$.\n",
        "2. $\\exists x \\forall y\\ (x + y > y)$.\n",
        "3. $\\exists x \\forall y\\ (x + y < y)$.\n",
        "4. $\\exists x \\forall y\\ (x + y = y)$.\n",
        "5. $\\exists x \\exists y (x + y = xy)$."
      ]
    },
    {
      "cell_type": "markdown",
      "metadata": {
        "id": "gSFYT4EHbbhF"
      },
      "source": [
        "#### Your Answer:\n",
        "1. The product of any two non-zero integers is non-zero and conversely, if the product of two numbers is non - zero , both numbers are non zero. \n",
        "-> True\n",
        "\n",
        "2. There is a number when added to any number will be large number.\n",
        "-> True\n",
        "\n",
        "3. There is a number when added to any number will be smaller number.\n",
        "-> True\n",
        "\n",
        "4. There is a number that when added to any number will give in the same number. \n",
        "-> True\n",
        "\n",
        "5. There are two numbers whose sum is equal to their product. \n",
        "-> True. "
      ]
    },
    {
      "cell_type": "markdown",
      "metadata": {
        "id": "ZJrJZ7y5_kKa"
      },
      "source": [
        "### Exercise 3.5"
      ]
    },
    {
      "cell_type": "markdown",
      "metadata": {
        "id": "6D4HBYey_kKb"
      },
      "source": [
        "List four elements of each of the following sets:\n",
        "\n",
        "1. $\\{x \\in \\mathbb{Z^+} : x - 1 \\texttt{ is a multiple of 7 } \\}$\n",
        "2. $\\{x : x \\texttt{ is a fruit and its skin is normally eaten }\\}$\n",
        "3. $\\{x \\in \\mathbb{Q} : \\frac{1}{x} \\in \\mathbb{Z}\\}$\n",
        "4. $\\{2n: n\\in\\mathbb{Z}, n < 0\\}$\n",
        "5. $\\{s: s=1+2+\\dots+n \\texttt{ for some } n \\in \\mathbb{Z^+}\\}$\n",
        "\n",
        "Question adapted from [Applied Discrete Structures](https://discretemath.org/) by Alan Doerr & Kenneth Levasseur which is licensed under a [Creative Commons Attribution-NonCommercial-ShareAlike 3.0 United States License](http://creativecommons.org/licenses/by-nc-sa/3.0/us/)."
      ]
    },
    {
      "cell_type": "markdown",
      "metadata": {
        "id": "mVHmJUSy_kKb"
      },
      "source": [
        "#### Your Answer:\n",
        "1. 8, 15 , 22, 29\n",
        "2. apple, peach, grapes, guavas\n",
        "3. 1/2, 1/3, 1/4, 1/5\n",
        "4. -2 ,-4, -6, -8\n",
        "5. 6, 10, 15, 21"
      ]
    },
    {
      "cell_type": "markdown",
      "metadata": {
        "id": "yqpvHaoU_kKb"
      },
      "source": [
        "### Exercise 3.6"
      ]
    },
    {
      "cell_type": "markdown",
      "metadata": {
        "id": "5OmkYOwM_kKb"
      },
      "source": [
        "Let $A = \\{0,2,3\\}$, $B = \\{2,3\\}$, $C=\\{1,5,9\\}$, and the universal set $U=\\{0,1,2,\\dots,9\\}$.\n",
        "\n",
        "Determine:\n",
        "\n",
        "1. $A \\cap B$\n",
        "2. $A \\cup B$\n",
        "3. $B \\cup A$\n",
        "4. $A \\cup C$\n",
        "5. $A - B$\n",
        "6. $B - A$\n",
        "7. $\\overline A$\n",
        "8. $\\overline C$\n",
        "9. $A \\cap C$\n",
        "10. $A \\oplus B$\n",
        "\n",
        "\n",
        "\n",
        "Question adapted from [Applied Discrete Structures](https://discretemath.org/) by Alan Doerr & Kenneth Levasseur which is licensed under a [Creative Commons Attribution-NonCommercial-ShareAlike 3.0 United States License](http://creativecommons.org/licenses/by-nc-sa/3.0/us/)."
      ]
    },
    {
      "cell_type": "markdown",
      "metadata": {
        "id": "dlLPJY9i_kKb"
      },
      "source": [
        "#### Your Answer:\n",
        "1. {2,3}\n",
        "2. {0,2,3}\n",
        "3. {0,2,3}\n",
        "4. {0, 1, 2, 3, 5, 9}\n",
        "5. {0}\n",
        "6. {}\n",
        "7. {1, 4, 5, 6, 7, 8, 9}\n",
        "8. {0, 2, 3, 4, 6, 7, 8}\n",
        "9. {}\n",
        "10. {0}"
      ]
    },
    {
      "cell_type": "markdown",
      "metadata": {
        "id": "3KuEDe6qAZqG"
      },
      "source": [
        "### Exercise 3.7"
      ]
    },
    {
      "cell_type": "markdown",
      "metadata": {
        "id": "CYE2_bHYAZqG"
      },
      "source": [
        "Python sets are similar to mathematical sets and include a number of methods and operators for working with sets. Note that sets in Python are unordered, so we cannot access elements by position and when displaying sets, no order is guaranteed.\n",
        "\n",
        "Python sets are created similarly to Python lists, but use the \"{\" and \"}\" rather than \"[\" and \"]\".\n",
        "\n",
        "Here are some examples of working with Python sets:"
      ]
    },
    {
      "cell_type": "code",
      "execution_count": null,
      "metadata": {
        "id": "B0G0eSmy_kKb"
      },
      "outputs": [],
      "source": [
        "A = {2, 3, 4, 7, 9} # Create a set A\n",
        "B = {1, 5, 8} # Create a set B\n",
        "C = {3, 7} # Create a set C\n",
        "D = set() # Create an empty set D\n",
        "\n",
        "print('A: ', A)\n",
        "print('B: ', B)\n",
        "print('C: ', C)\n",
        "print('D: ', D, '# Note \"set()\" indicates the empty set')\n",
        "\n",
        "# Use set methods and operators\n",
        "print('A ∪ B:', A.union(B))\n",
        "print('A ∪ B:', A | B)  # The | operator works for set union\n",
        "print('A ∩ B:', A.intersection(B))\n",
        "print('A ∩ B:', A & B)  # The & operator works for set intersection\n",
        "print('A - B:', A.difference(B))\n",
        "print('A - B:', A - B)  # The - operator works for set difference\n",
        "print('C ⊆ A:', C.issubset(A))\n",
        "print('C ⊆ A:', C <= A) # The <= and < operators work for subset and proper subset\n",
        "print('C ⊂ A:', C < A)  # proper subset\n",
        "\n",
        "# Sets can contain items other than numbers\n",
        "E = {'adam', 'bob', 'carol'}\n",
        "F = {'bob', 'dave', 'eve'}\n",
        "print('E:', E)\n",
        "print('F:', F)\n",
        "print('E ∪ F:', E.union(F))\n",
        "print('E ∩ F:', E.intersection(F))\n",
        "\n",
        "# Determine membership in a set using 'in'\n",
        "print('Is \"adam\" a member of E? ', 'adam' in E)\n",
        "\n",
        "# Add or remove items from a set\n",
        "E.add('dave')\n",
        "E.discard('bob')\n",
        "print('Updated E:', E)\n",
        "\n",
        "# Create a set from something else\n",
        "G = set('ABCDEFG') # Create a set from a string\n",
        "H = set(['X', 'Y', 'Z']) # Create a set from a list\n",
        "print('G: ', G)\n",
        "print('H: ', H)\n"
      ]
    },
    {
      "cell_type": "markdown",
      "metadata": {
        "id": "tLHd1Dz-_kKc"
      },
      "source": [
        "#### Use Python to answer these questions from Exercise 3.6 and repeated here:\n",
        "\n",
        "Let $A = \\{0,2,3\\}$, $B = \\{2,3\\}$, $C=\\{1,5,9\\}$, and the universal set $U=\\{0,1,2,\\dots,9\\}$.\n",
        "\n",
        "Determine:\n",
        "\n",
        "1. $A \\cap B$\n",
        "2. $A \\cup B$\n",
        "3. $B \\cup A$\n",
        "4. $A \\cup C$\n",
        "5. $A - B$\n",
        "6. $B - A$\n",
        "7. $\\overline A$\n",
        "8. $\\overline C$\n",
        "9. $A \\cap C$\n",
        "10. $A \\oplus B$"
      ]
    },
    {
      "cell_type": "markdown",
      "metadata": {
        "id": "-GBP1-d6_kKc"
      },
      "source": [
        "#### Your Answer:"
      ]
    },
    {
      "cell_type": "code",
      "execution_count": null,
      "metadata": {
        "id": "G6_Nl-5V_kKc",
        "colab": {
          "base_uri": "https://localhost:8080/"
        },
        "outputId": "0ba1a918-c3dd-4088-ff29-29b13dc179ba"
      },
      "outputs": [
        {
          "output_type": "stream",
          "name": "stdout",
          "text": [
            "1. {2, 3}\n",
            "2. {0, 2, 3}\n",
            "3. {0, 2, 3}\n",
            "4. {0, 1, 2, 3, 5, 9}\n",
            "5. {0}\n",
            "6. set()\n",
            "7. {1, 4, 5, 6, 7, 8, 9}\n",
            "8. {0, 2, 3, 4, 6, 7, 8}\n",
            "9. set()\n",
            "10. {0}\n",
            "10. {0}\n"
          ]
        }
      ],
      "source": [
        "# Fill in your code here\n",
        "#@title ANSWERS {display-mode: \"form\"}\n",
        "A = {0,2,3}\n",
        "B = {2,3}\n",
        "C = {1,5,9}\n",
        "U = {0,1,2,3,4,5,6,7,8,9}\n",
        "\n",
        "print('1.', A & B)\n",
        "print('2.', A | B)\n",
        "print('3.', B | A)\n",
        "print('4.', A | C)\n",
        "print('5.', A - B)\n",
        "print('6.', B - A)\n",
        "print('7.', U - A)\n",
        "print('8.', U - C)\n",
        "print('9.', A & C)\n",
        "print('10.', A.symmetric_difference(B))\n",
        "print('10.', (A - B) )\n",
        "\n",
        "\n"
      ]
    },
    {
      "cell_type": "markdown",
      "metadata": {
        "id": "DpkFH6Y7_kKc"
      },
      "source": [
        "### Exercise 3.8"
      ]
    },
    {
      "cell_type": "markdown",
      "metadata": {
        "id": "nRNCEOwO_kKc"
      },
      "source": [
        "#### Use Python to answer the following questions:\n",
        "\n",
        "Let $A$ be the set of letters in the English alphabet\n",
        "\n",
        "Let $B$ be the set of letters in the Hawaiian alphabet (Do some quick research to find this)\n",
        "\n",
        "1. What is the cardinality of the Hawaiian alphabet?\n",
        "1. Is the Hawaiian alphabet a **proper** subset of the English alphabet?\n",
        "1. What is the set intersection between A and B? What is the cardinality of the intersection? \n",
        "1. What is the set union between A and B? What is the cardinality of the union? \n",
        "1. What is the set difference between A and B? What is the cardinality of the difference? \n",
        "1. What is the symmetric difference between A and B? What is the cardinality of this set?\n",
        "1. Is the symmetric difference the same as the difference? Why or why not?\n"
      ]
    },
    {
      "cell_type": "markdown",
      "metadata": {
        "id": "41D3uH6m_kKc"
      },
      "source": [
        "#### Your Answer:"
      ]
    },
    {
      "cell_type": "code",
      "execution_count": null,
      "metadata": {
        "id": "xLCjaBXd_kKc",
        "colab": {
          "base_uri": "https://localhost:8080/"
        },
        "outputId": "e98ae3c1-c17a-4011-be4b-8774c7c8f7fe"
      },
      "outputs": [
        {
          "output_type": "stream",
          "name": "stdout",
          "text": [
            "1. 12\n",
            "2. True\n",
            "3. Intersection:  {'A', 'H', 'U', 'O', 'K', 'M', 'N', 'P', 'L', 'E', 'W', 'I'}  Cardinality:  12\n",
            "   True\n",
            "   It's no surprise that the intersection is just the Hawaiian alphabet,\n",
            "   given that it's a proper subset of the English alphabet.\n",
            "\n",
            "4. Union:  {'D', 'A', 'O', 'K', 'J', 'Z', 'Q', 'Y', 'C', 'H', 'N', 'P', 'R', 'E', 'W', 'I', 'T', 'M', 'L', 'G', 'X', 'F', 'U', 'B', 'S', 'V'}  Cardinality:  26\n",
            "5. Difference:  {'D', 'S', 'X', 'F', 'B', 'J', 'Z', 'R', 'Q', 'G', 'Y', 'T', 'C', 'V'}  Cardinality:  14\n",
            "6. Symmetric Difference  {'D', 'J', 'Z', 'Q', 'G', 'Y', 'C', 'X', 'F', 'B', 'R', 'T', 'S', 'V'}  Cardinality:  14\n",
            "7. True\n",
            "   This is true because the symmetric difference is all of the elements \n",
            "   that are in only one of the sets, but every element in the Hawaiian alphabet \n",
            "   is also in the English alphabet. So the symmetric difference is only those \n",
            "   letters in the English alphabet that are not also in the Hawaiian alphabet.\n",
            "\n"
          ]
        }
      ],
      "source": [
        "# Fill in your code here\n",
        "#@title Answers {display-mode: \"form\"}\n",
        "English_alphabet = set('ABCDEFGHIJKLMNOPQRSTUVWXYZ')\n",
        "Hawaiian_alphabet = set('AEIOUHKLMNPW')\n",
        "print('1.', len(Hawaiian_alphabet))\n",
        "print('2.', Hawaiian_alphabet.issubset(English_alphabet) and not Hawaiian_alphabet == English_alphabet)\n",
        "intersection = English_alphabet.intersection(Hawaiian_alphabet)\n",
        "print('3. Intersection: ', intersection, ' Cardinality: ', len(intersection))\n",
        "print('  ', intersection == Hawaiian_alphabet)\n",
        "print(\"   It's no surprise that the intersection is just the Hawaiian alphabet,\")\n",
        "print(\"   given that it's a proper subset of the English alphabet.\")\n",
        "print()\n",
        "union = English_alphabet.union(Hawaiian_alphabet)\n",
        "print('4. Union: ', union, ' Cardinality: ', len(union))\n",
        "difference = English_alphabet - Hawaiian_alphabet\n",
        "print('5. Difference: ', difference, ' Cardinality: ', len(difference))\n",
        "symmetric_difference = English_alphabet.symmetric_difference(Hawaiian_alphabet)\n",
        "print('6. Symmetric Difference ', symmetric_difference, ' Cardinality: ', len(symmetric_difference))\n",
        "print('7.', difference == symmetric_difference)\n",
        "print('''   This is true because the symmetric difference is all of the elements \n",
        "   that are in only one of the sets, but every element in the Hawaiian alphabet \n",
        "   is also in the English alphabet. So the symmetric difference is only those \n",
        "   letters in the English alphabet that are not also in the Hawaiian alphabet.\n",
        "''')\n"
      ]
    },
    {
      "cell_type": "markdown",
      "metadata": {
        "id": "6cRTvJ-S_kKc"
      },
      "source": [
        "### Exercise 3.9"
      ]
    },
    {
      "cell_type": "markdown",
      "metadata": {
        "id": "smyyn7QE_kKc"
      },
      "source": [
        "Python list comprehensions (and set comprehensions) are similar to set builder notation. For example, the set of the first twenty even numbers is represented using set builder notation as:\n",
        "\n",
        "$S = \\{x \\in \\mathbb{Z}: x = 2n \\texttt{ and } 0 \\le n \\le 19 \\}$\n",
        "\n",
        "This set could be created in Python like this:"
      ]
    },
    {
      "cell_type": "code",
      "execution_count": null,
      "metadata": {
        "id": "skfH4OCB_kKc"
      },
      "outputs": [],
      "source": [
        "S = {2*n for n in range(20)}\n",
        "print(S)"
      ]
    },
    {
      "cell_type": "markdown",
      "metadata": {
        "id": "xJxLuQSn_kKd"
      },
      "source": [
        "We can also include an \"if\" statement in the Python list comprehension to add additional filters when building the set.\n",
        "\n",
        "<!-- The set $S = \\{x \\in \\mathbb{Z}: x = 2n \\texttt{ and } 0 \\le n \\le 19 \\texttt{ and } x \\texttt{ is a multiple of 3 } \\}$ -->\n",
        "\n",
        "For example, to build the set of odd integers between 1 and 20, the set builder notation would be\n",
        "\n",
        "$\\{x \\in \\mathbb{Z}: x \\le 20 \\texttt{ and } x \\texttt{ is odd }\\}$\n",
        "\n",
        "In Python:"
      ]
    },
    {
      "cell_type": "code",
      "execution_count": null,
      "metadata": {
        "id": "k7yzh2i2_kKd"
      },
      "outputs": [],
      "source": [
        "print({x for x in range(21) if x%2})"
      ]
    },
    {
      "cell_type": "markdown",
      "metadata": {
        "id": "lsirauZh_kKd"
      },
      "source": [
        "Using Python list (or set) comprehensions, create the following sets. Assume the domain is $\\mathbb{Z}$. \n",
        "\n",
        "When printing the result, use `sorted` to convert the sets to a sorted list to make it easier to verify your result.\n",
        "\n",
        "1. The first 100 multiples of 3.\n",
        "2. The perfect squares from 1 to 100. (An integer $x$ is a perfect square if there is an integer $y$ such that $x = y^2$ )\n",
        "3. All integers whose absolute value is less than 5.\n",
        "4. The odd integers between -10 and 10.\n",
        "5. The integers between 0 and 100 that end in the digit 3 or 7."
      ]
    },
    {
      "cell_type": "markdown",
      "metadata": {
        "id": "z6P4h_qT_kKd"
      },
      "source": [
        "#### Your Answer:"
      ]
    },
    {
      "cell_type": "code",
      "execution_count": null,
      "metadata": {
        "id": "1xz6bH0Z_kKd",
        "colab": {
          "base_uri": "https://localhost:8080/"
        },
        "outputId": "0bd6f329-dad5-4ac6-9c8b-339610ccf973"
      },
      "outputs": [
        {
          "output_type": "stream",
          "name": "stdout",
          "text": [
            "1. [0, 3, 6, 9, 12, 15, 18, 21, 24, 27, 30, 33, 36, 39, 42, 45, 48, 51, 54, 57, 60, 63, 66, 69, 72, 75, 78, 81, 84, 87, 90, 93, 96, 99, 102, 105, 108, 111, 114, 117, 120, 123, 126, 129, 132, 135, 138, 141, 144, 147, 150, 153, 156, 159, 162, 165, 168, 171, 174, 177, 180, 183, 186, 189, 192, 195, 198, 201, 204, 207, 210, 213, 216, 219, 222, 225, 228, 231, 234, 237, 240, 243, 246, 249, 252, 255, 258, 261, 264, 267, 270, 273, 276, 279, 282, 285, 288, 291, 294, 297, 300]\n",
            "2. [1, 4, 9, 16, 25, 36, 49, 64, 81, 100]\n",
            "3. [-4, -3, -2, -1, 0, 1, 2, 3, 4]\n",
            "4. [-9, -7, -5, -3, -1, 1, 3, 5, 7, 9]\n",
            "5. [3, 7, 13, 17, 23, 27, 33, 37, 43, 47, 53, 57, 63, 67, 73, 77, 83, 87, 93, 97]\n"
          ]
        }
      ],
      "source": [
        "# Fill in your code here\n",
        "#@title ANSWERS{display-mode: \"form\"}\n",
        "print('1.', sorted({3*n for n in range(101)}))\n",
        "print('2.', sorted({x**2 for x in range(1, 11)}))\n",
        "print('3.', sorted({x for x in range(-4, 5)}))\n",
        "print('4.', sorted({x for x in range(-10, 11) if x%2}))\n",
        "print('5.', sorted({x for x in range(101) if x%10 == 3 or x%10 == 7}))\n"
      ]
    },
    {
      "cell_type": "markdown",
      "metadata": {
        "id": "w27SS8M3_kKd"
      },
      "source": [
        "### Exercise 3.10"
      ]
    },
    {
      "cell_type": "markdown",
      "metadata": {
        "id": "k6hbfn-U_kKd"
      },
      "source": [
        "Use Python list comprehensions to generate and display all the members of the following sets:\n",
        "\n",
        "1. $\\{\\frac{1}{n}: n \\in \\{2,4,8,16\\}\\}$\n",
        "2. $\\{n^2 : n \\in \\{-2, -1, 0, 1, 2\\}\\}$\n",
        "3. $\\{n \\in \\mathbb{Z^+} : n \\texttt{ is a factor of } 24\\}$\n",
        "4. $\\{\\alpha \\in \\texttt{the English alphabet} : \\alpha \\texttt{ precedes F}\\}$\n",
        "\n",
        "Question adapted from [Applied Discrete Structures](https://discretemath.org/) by Alan Doerr & Kenneth Levasseur which is licensed under a [Creative Commons Attribution-NonCommercial-ShareAlike 3.0 United States License](http://creativecommons.org/licenses/by-nc-sa/3.0/us/)."
      ]
    },
    {
      "cell_type": "markdown",
      "metadata": {
        "id": "O-Jsp2NI_kKd"
      },
      "source": [
        "#### Your Answer:"
      ]
    },
    {
      "cell_type": "code",
      "execution_count": null,
      "metadata": {
        "id": "d_cxJN7i_kKd",
        "colab": {
          "base_uri": "https://localhost:8080/"
        },
        "outputId": "051d2d84-50dd-4fe1-9986-eb1ecb651689"
      },
      "outputs": [
        {
          "output_type": "stream",
          "name": "stdout",
          "text": [
            "1. {0.5, 0.25, 0.125, 0.0625}\n",
            "2. {0, 1, 4}\n",
            "3. {1, 2, 3, 4, 6, 8, 12}\n",
            "4. {'D', 'A', 'B', 'E', 'C'}\n"
          ]
        }
      ],
      "source": [
        "# Fill in your code here\n",
        "#@title ANSWERS  {display-mode: \"form\"}\n",
        "print('1.', {1/n for n in [2,4,8,16]})\n",
        "print('2.', {n**2 for n in range(-2,3)})\n",
        "print('3.', {n for n in range(1, 24) if not 24 % n})\n",
        "print('4.', {a for a in 'ABCDEFGHIJKLMNOPQRSTUVWXYZ' if a < 'F'})\n",
        "\n"
      ]
    },
    {
      "cell_type": "markdown",
      "metadata": {
        "id": "_0ujyNQdbbhJ"
      },
      "source": [
        "### Exercise 3.11"
      ]
    },
    {
      "cell_type": "markdown",
      "metadata": {
        "id": "tq8CyFLUMxoq"
      },
      "source": [
        "Let A and B be two sets of words:\n",
        "\n",
        "A = {'verve', 'vim', 'vigor'}\n",
        "\n",
        "B = {'butter', 'vinegar', 'pepper', 'vigor'}\n",
        "\n",
        "For each of the following set operations, give its resulting members as a set of strings. Use Python.\n",
        "\n",
        "1. The set of words that are in A $\\cup$ B; call this set C.\n",
        "2. The set of words that are in A $\\cap$ B; call this set D.\n",
        "3. The subset of set C of words that start with 'v'.\n",
        "4. The subset of set C of words that end with 'r'.\n",
        "5. The subset of set C of words that start with 'v' and end with 'r'.\n",
        "6. The subset of set D of words that have five letters.\n",
        "7. The subset of set D of words that have six letters."
      ]
    },
    {
      "cell_type": "markdown",
      "metadata": {
        "id": "IsGVQqVI_kKd"
      },
      "source": [
        "#### Your Answer:"
      ]
    },
    {
      "cell_type": "code",
      "execution_count": null,
      "metadata": {
        "id": "8qBsHkl6_kKd",
        "colab": {
          "base_uri": "https://localhost:8080/"
        },
        "outputId": "bd8b06e6-2635-4d84-9446-414e00c5af0f"
      },
      "outputs": [
        {
          "output_type": "stream",
          "name": "stdout",
          "text": [
            "A = {'verve', 'vigor', 'vim'}\n",
            "B = {'vinegar', 'vigor', 'butter', 'pepper'}\n",
            "1. C = {'verve', 'vigor', 'butter', 'vinegar', 'vim', 'pepper'}\n",
            "2. D = {'vigor'}\n",
            "3. start_with_v = {'verve', 'vigor', 'vinegar', 'vim'}\n",
            "4. end_with_r = {'vigor', 'vinegar', 'butter', 'pepper'}\n",
            "5. start_with_v_and_end_with_r = {'vigor', 'vinegar'}\n",
            "6. subset_of_D_of_words_with_five_letters = {'vigor'}\n",
            "7. subset_of_D_of_words_with_six_letters = set()\n"
          ]
        }
      ],
      "source": [
        "# Fill in your code here\n",
        "#@title ANSWERS {display-mode: \"form\"}\n",
        "A = {'verve', 'vim', 'vigor'}\n",
        "print('A =', A)\n",
        "B = {'butter', 'vinegar', 'pepper', 'vigor'}\n",
        "print('B =', B)\n",
        "C = A.union(B)\n",
        "print('1. C =', C)\n",
        "D = A.intersection(B)\n",
        "print('2. D =', D)\n",
        "start_with_v = {word for word in C if word[0] == 'v'}\n",
        "print('3. start_with_v =', start_with_v)\n",
        "end_with_r = {word for word in C if word[-1:] == 'r'}\n",
        "print('4. end_with_r =', end_with_r)\n",
        "start_with_v_and_end_with_r = start_with_v.intersection(end_with_r)\n",
        "print('5. start_with_v_and_end_with_r =', start_with_v_and_end_with_r)\n",
        "subset_of_D_of_words_with_five_letters = {word for word in D if len(word) == 5}\n",
        "print('6. subset_of_D_of_words_with_five_letters =', subset_of_D_of_words_with_five_letters)\n",
        "subset_of_D_of_words_with_six_letters = {word for word in D if len(word) == 6}\n",
        "print('7. subset_of_D_of_words_with_six_letters =', subset_of_D_of_words_with_six_letters)\n"
      ]
    },
    {
      "cell_type": "markdown",
      "metadata": {
        "id": "HCjgnJwTbbhN"
      },
      "source": [
        "----------------------\n",
        "## Sample Solutions\n",
        "\n",
        "**Note**:\n",
        "Sample solutions are provided in order to help you **learn**. The purpose of these exercises is not to simply turn in the answers, but to take the time and effort to learn and understand the material. You are encouraged to work the problems first, then when you are satisfied that you have the correct answer, look at the sample solution and compare it with yours. "
      ]
    },
    {
      "cell_type": "markdown",
      "metadata": {
        "id": "FrubnMnQ_kKd"
      },
      "source": [
        "### Sample Solution 3.1"
      ]
    },
    {
      "cell_type": "markdown",
      "metadata": {
        "id": "Enjp5kzj_kKd"
      },
      "source": [
        "1. Every student asks some student a question.\n",
        "2. Every student asks every student a question.\n",
        "3. Some student asks at least one student a question.\n",
        "4. Some student asks every student a question.\n",
        "5. Every student is asked a question by some (or at least one) student.\n",
        "6. Some student asks some student a question. (Another way to say the answer to 3.)"
      ]
    },
    {
      "cell_type": "markdown",
      "metadata": {
        "id": "oYWACQpn_kKd"
      },
      "source": [
        "### Sample Solution 3.2"
      ]
    },
    {
      "cell_type": "markdown",
      "metadata": {
        "id": "6HNvuWkp_kKd"
      },
      "source": [
        "1. $\\exists x \\exists y \\neg P(x,y)$\n",
        "2. $\\forall x \\exists y \\neg P(x,y)$\n",
        "5. $\\forall x \\forall y \\exists z P(x,y,z)$\n",
        "6. $\\exists x \\forall y \\exists z \\neg P(x,y,z)$\n",
        "4. $\\forall x \\forall y (\\neg P(x,y) \\lor \\neg Q(x,y))$\n",
        "3. $\\exists x \\exists y \\forall z (P(x,y) \\land \\neg Q(y,z))$"
      ]
    },
    {
      "cell_type": "markdown",
      "metadata": {
        "id": "ABVS0ojy_kKe"
      },
      "source": [
        "### Sample Solution 3.3"
      ]
    },
    {
      "cell_type": "markdown",
      "metadata": {
        "id": "uZCUHtS1_kKe"
      },
      "source": [
        "1. $\\forall x\\ H(x) \\rightarrow V(x)$; negated is $\\exists x\\ H(x) \\land \\lnot V(x)$ = 'Some horse does not have hooves.'\n",
        "2. $\\forall x\\ H(x) \\rightarrow \\lnot F(x)$; negated is $\\exists x\\ H(x) \\land F(x) =$ 'Some horse can fly'.\n",
        "3. $\\forall x\\ Bat(x) \\rightarrow Blind(x)$; negated is $\\exists x\\ Bat(x) \\land \\lnot Blind(x) =$ 'Some bat is not blind'.\n",
        "4. $\\forall x\\ B(x) \\rightarrow \\lnot D(x)$; negated is $\\exists x\\ B(x) \\land D(x) =$ 'Some bear can dance'. \n",
        "5. $\\exists x\\ Penguin(x) \\land can\\_Swim(x) \\land can\\_Catch\\_Fish(x)$; negated is $\\forall x\\ \\lnot Penguin(x) \\lor \\lnot can\\_Swim(x) \\lor \\lnot can\\_Catch\\_Fish(x) = $ 'Everything is either a non-penguin or a non-swimmer or a non-fish-catcher' (or better: 'No penguin can swim and catch fish').\n"
      ]
    },
    {
      "cell_type": "markdown",
      "metadata": {
        "id": "B43CZphJ_kKe"
      },
      "source": [
        "### Sample Solution 3.4"
      ]
    },
    {
      "cell_type": "markdown",
      "metadata": {
        "id": "q0XYInfW_kKe"
      },
      "source": [
        "1. The product of any two non-zero integers is non-zero and conversely, if the product of two numbers is non-zero, both numbers are non-zero. True\n",
        "2. There is a number that when added to any number will result in a larger number. True. Pick any positive number for x.\n",
        "3. There is a number that when added to any number will result in a smaller number. True. Pick any negative number for x.\n",
        "4. There is a number that when added to any number will result in that same number. True. Pick x=0.\n",
        "5. There are two numbers whose sum is equal to their product. True. Pick x=0 and y=0."
      ]
    },
    {
      "cell_type": "markdown",
      "metadata": {
        "id": "HN1t1QXh_kKe"
      },
      "source": [
        "### Sample Solution 3.5"
      ]
    },
    {
      "cell_type": "markdown",
      "metadata": {
        "id": "06H9M0ll_kKe"
      },
      "source": [
        "These answers are not unique.\n",
        "\n",
        "1. 8, 15, 22, 29\n",
        "2. apple, pear, peach, plum\n",
        "3. 1/2, 1/3, 1/4, 1/5\n",
        "4. -2, -4, -6, -8\n",
        "5. 6, 10, 15, 21\n"
      ]
    },
    {
      "cell_type": "markdown",
      "metadata": {
        "id": "f5QF74Ny_kKe"
      },
      "source": [
        "### Sample Solution 3.6"
      ]
    },
    {
      "cell_type": "markdown",
      "metadata": {
        "id": "FBVJVf91_kKe"
      },
      "source": [
        "1. {2,3}\n",
        "2. {0,2,3}\n",
        "3. {0,2,3}\n",
        "4. {0,1,2,3,5,9}\n",
        "5. {0}\n",
        "6. {}\n",
        "7. {1,4,5,6,7,8,9}\n",
        "8. {0,2,3,4,6,7,8}\n",
        "9. {}\n",
        "10. {0}\n"
      ]
    },
    {
      "cell_type": "code",
      "execution_count": null,
      "metadata": {
        "id": "yglBT-UuAZqI"
      },
      "outputs": [],
      "source": [
        "#@title Sample Solution 3.7 {display-mode: \"form\"}\n",
        "A = {0,2,3}\n",
        "B = {2,3}\n",
        "C = {1,5,9}\n",
        "U = {0,1,2,3,4,5,6,7,8,9}\n",
        "\n",
        "print('1.', A & B)\n",
        "print('2.', A | B)\n",
        "print('3.', B | A)\n",
        "print('4.', A | C)\n",
        "print('5.', A - B)\n",
        "print('6.', B - A)\n",
        "print('7.', U - A)\n",
        "print('8.', U - C)\n",
        "print('9.', A & C)\n",
        "print('10.', A.symmetric_difference(B))\n",
        "print('10.', (A - B) | (B - A)) # Another way to do symmetric difference\n",
        "\n"
      ]
    },
    {
      "cell_type": "code",
      "execution_count": null,
      "metadata": {
        "id": "AzTTbYrR_kKe"
      },
      "outputs": [],
      "source": [
        "#@title Sample Solution 3.8 {display-mode: \"form\"}\n",
        "English_alphabet = set('ABCDEFGHIJKLMNOPQRSTUVWXYZ')\n",
        "Hawaiian_alphabet = set('AEIOUHKLMNPW')\n",
        "print('1.', len(Hawaiian_alphabet))\n",
        "print('2.', Hawaiian_alphabet.issubset(English_alphabet) and not Hawaiian_alphabet == English_alphabet)\n",
        "intersection = English_alphabet.intersection(Hawaiian_alphabet)\n",
        "print('3. Intersection: ', intersection, ' Cardinality: ', len(intersection))\n",
        "print('  ', intersection == Hawaiian_alphabet)\n",
        "print(\"   It's no surprise that the intersection is just the Hawaiian alphabet,\")\n",
        "print(\"   given that it's a proper subset of the English alphabet.\")\n",
        "print()\n",
        "union = English_alphabet.union(Hawaiian_alphabet)\n",
        "print('4. Union: ', union, ' Cardinality: ', len(union))\n",
        "difference = English_alphabet - Hawaiian_alphabet\n",
        "print('5. Difference: ', difference, ' Cardinality: ', len(difference))\n",
        "symmetric_difference = English_alphabet.symmetric_difference(Hawaiian_alphabet)\n",
        "print('6. Symmetric Difference ', symmetric_difference, ' Cardinality: ', len(symmetric_difference))\n",
        "print('7.', difference == symmetric_difference)\n",
        "print('''   This is true because the symmetric difference is all of the elements \n",
        "   that are in only one of the sets, but every element in the Hawaiian alphabet \n",
        "   is also in the English alphabet. So the symmetric difference is only those \n",
        "   letters in the English alphabet that are not also in the Hawaiian alphabet.\n",
        "''')"
      ]
    },
    {
      "cell_type": "code",
      "execution_count": null,
      "metadata": {
        "id": "U9rzBLHf_kKe"
      },
      "outputs": [],
      "source": [
        "#@title Sample Solution 3.9 {display-mode: \"form\"}\n",
        "print('1.', sorted({3*n for n in range(101)}))\n",
        "print('2.', sorted({x**2 for x in range(1, 11)}))\n",
        "print('3.', sorted({x for x in range(-4, 5)}))\n",
        "print('4.', sorted({x for x in range(-10, 11) if x%2}))\n",
        "print('5.', sorted({x for x in range(101) if x%10 == 3 or x%10 == 7}))"
      ]
    },
    {
      "cell_type": "code",
      "execution_count": null,
      "metadata": {
        "id": "AbgeuNyu_kKe"
      },
      "outputs": [],
      "source": [
        "#@title Sample Solution 3.10 {display-mode: \"form\"}\n",
        "print('1.', {1/n for n in [2,4,8,16]})\n",
        "print('2.', {n**2 for n in range(-2,3)})\n",
        "print('3.', {n for n in range(1, 24) if not 24 % n})\n",
        "print('4.', {a for a in 'ABCDEFGHIJKLMNOPQRSTUVWXYZ' if a < 'F'})"
      ]
    },
    {
      "cell_type": "code",
      "execution_count": null,
      "metadata": {
        "id": "QF919GqlMxos"
      },
      "outputs": [],
      "source": [
        "#@title Sample Solution 3.11 {display-mode: \"form\"}\n",
        "A = {'verve', 'vim', 'vigor'}\n",
        "print('A =', A)\n",
        "B = {'butter', 'vinegar', 'pepper', 'vigor'}\n",
        "print('B =', B)\n",
        "C = A.union(B)\n",
        "print('1. C =', C)\n",
        "D = A.intersection(B)\n",
        "print('2. D =', D)\n",
        "start_with_v = {word for word in C if word[0] == 'v'}\n",
        "print('3. start_with_v =', start_with_v)\n",
        "end_with_r = {word for word in C if word[-1:] == 'r'}\n",
        "print('4. end_with_r =', end_with_r)\n",
        "start_with_v_and_end_with_r = start_with_v.intersection(end_with_r)\n",
        "print('5. start_with_v_and_end_with_r =', start_with_v_and_end_with_r)\n",
        "subset_of_D_of_words_with_five_letters = {word for word in D if len(word) == 5}\n",
        "print('6. subset_of_D_of_words_with_five_letters =', subset_of_D_of_words_with_five_letters)\n",
        "subset_of_D_of_words_with_six_letters = {word for word in D if len(word) == 6}\n",
        "print('7. subset_of_D_of_words_with_six_letters =', subset_of_D_of_words_with_six_letters)"
      ]
    }
  ],
  "metadata": {
    "colab": {
      "collapsed_sections": [],
      "name": "cse280-homework-03.ipynb",
      "provenance": [],
      "include_colab_link": true
    },
    "kernelspec": {
      "display_name": "Python 3",
      "language": "python",
      "name": "python3"
    },
    "language_info": {
      "codemirror_mode": {
        "name": "ipython",
        "version": 3
      },
      "file_extension": ".py",
      "mimetype": "text/x-python",
      "name": "python",
      "nbconvert_exporter": "python",
      "pygments_lexer": "ipython3",
      "version": "3.9.0"
    }
  },
  "nbformat": 4,
  "nbformat_minor": 0
}